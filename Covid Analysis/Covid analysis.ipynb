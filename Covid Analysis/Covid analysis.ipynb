{
 "cells": [
  {
   "cell_type": "raw",
   "id": "56ac5602",
   "metadata": {},
   "source": [
    "Coronavirus spreads in rapid rate and has been a great threat to mankind with certain symptoms we can predict weather a person is been infected by covid. \n",
    "Predicting can improve the medical treatment because with certain symptoms we can isolate the patients and reduce it from further spreading. It also helps us in knowing how critical the patient is based on the symptoms."
   ]
  },
  {
   "cell_type": "markdown",
   "id": "aaec91e9",
   "metadata": {},
   "source": [
    "Hypothesis:cough_symptom,Shortness_breath,sore_throat should play a major role in predicting the outcome variable"
   ]
  },
  {
   "cell_type": "code",
   "execution_count": 1,
   "id": "f7f828f5",
   "metadata": {},
   "outputs": [],
   "source": [
    "import pandas as pd\n",
    "import numpy as np\n",
    "import seaborn as sns\n",
    "import matplotlib.pyplot as plt\n",
    "import missingno as msno \n"
   ]
  },
  {
   "cell_type": "code",
   "execution_count": 2,
   "id": "bf5bafc1",
   "metadata": {},
   "outputs": [
    {
     "name": "stderr",
     "output_type": "stream",
     "text": [
      "C:\\Users\\SREENIVASAN\\AppData\\Local\\Temp\\ipykernel_288\\1957926266.py:1: DtypeWarning: Columns (2,3,4,5,6) have mixed types. Specify dtype option on import or set low_memory=False.\n",
      "  df=pd.read_csv('corona_tested_006.csv')\n"
     ]
    }
   ],
   "source": [
    "df=pd.read_csv('corona_tested_006.csv')"
   ]
  },
  {
   "cell_type": "code",
   "execution_count": 3,
   "id": "ecba09fe",
   "metadata": {
    "scrolled": true
   },
   "outputs": [
    {
     "data": {
      "text/html": [
       "<div>\n",
       "<style scoped>\n",
       "    .dataframe tbody tr th:only-of-type {\n",
       "        vertical-align: middle;\n",
       "    }\n",
       "\n",
       "    .dataframe tbody tr th {\n",
       "        vertical-align: top;\n",
       "    }\n",
       "\n",
       "    .dataframe thead th {\n",
       "        text-align: right;\n",
       "    }\n",
       "</style>\n",
       "<table border=\"1\" class=\"dataframe\">\n",
       "  <thead>\n",
       "    <tr style=\"text-align: right;\">\n",
       "      <th></th>\n",
       "      <th>Ind_ID</th>\n",
       "      <th>Test_date</th>\n",
       "      <th>Cough_symptoms</th>\n",
       "      <th>Fever</th>\n",
       "      <th>Sore_throat</th>\n",
       "      <th>Shortness_of_breath</th>\n",
       "      <th>Headache</th>\n",
       "      <th>Corona</th>\n",
       "      <th>Age_60_above</th>\n",
       "      <th>Sex</th>\n",
       "      <th>Known_contact</th>\n",
       "    </tr>\n",
       "  </thead>\n",
       "  <tbody>\n",
       "    <tr>\n",
       "      <th>0</th>\n",
       "      <td>1</td>\n",
       "      <td>11-03-2020</td>\n",
       "      <td>TRUE</td>\n",
       "      <td>FALSE</td>\n",
       "      <td>TRUE</td>\n",
       "      <td>FALSE</td>\n",
       "      <td>FALSE</td>\n",
       "      <td>negative</td>\n",
       "      <td>None</td>\n",
       "      <td>None</td>\n",
       "      <td>Abroad</td>\n",
       "    </tr>\n",
       "    <tr>\n",
       "      <th>1</th>\n",
       "      <td>2</td>\n",
       "      <td>11-03-2020</td>\n",
       "      <td>FALSE</td>\n",
       "      <td>TRUE</td>\n",
       "      <td>FALSE</td>\n",
       "      <td>FALSE</td>\n",
       "      <td>FALSE</td>\n",
       "      <td>positive</td>\n",
       "      <td>None</td>\n",
       "      <td>None</td>\n",
       "      <td>Abroad</td>\n",
       "    </tr>\n",
       "    <tr>\n",
       "      <th>2</th>\n",
       "      <td>3</td>\n",
       "      <td>11-03-2020</td>\n",
       "      <td>FALSE</td>\n",
       "      <td>TRUE</td>\n",
       "      <td>FALSE</td>\n",
       "      <td>FALSE</td>\n",
       "      <td>FALSE</td>\n",
       "      <td>positive</td>\n",
       "      <td>None</td>\n",
       "      <td>None</td>\n",
       "      <td>Abroad</td>\n",
       "    </tr>\n",
       "    <tr>\n",
       "      <th>3</th>\n",
       "      <td>4</td>\n",
       "      <td>11-03-2020</td>\n",
       "      <td>TRUE</td>\n",
       "      <td>FALSE</td>\n",
       "      <td>FALSE</td>\n",
       "      <td>FALSE</td>\n",
       "      <td>FALSE</td>\n",
       "      <td>negative</td>\n",
       "      <td>None</td>\n",
       "      <td>None</td>\n",
       "      <td>Abroad</td>\n",
       "    </tr>\n",
       "    <tr>\n",
       "      <th>4</th>\n",
       "      <td>5</td>\n",
       "      <td>11-03-2020</td>\n",
       "      <td>TRUE</td>\n",
       "      <td>FALSE</td>\n",
       "      <td>FALSE</td>\n",
       "      <td>FALSE</td>\n",
       "      <td>FALSE</td>\n",
       "      <td>negative</td>\n",
       "      <td>None</td>\n",
       "      <td>None</td>\n",
       "      <td>Contact with confirmed</td>\n",
       "    </tr>\n",
       "  </tbody>\n",
       "</table>\n",
       "</div>"
      ],
      "text/plain": [
       "   Ind_ID   Test_date Cough_symptoms  Fever Sore_throat Shortness_of_breath  \\\n",
       "0       1  11-03-2020           TRUE  FALSE        TRUE               FALSE   \n",
       "1       2  11-03-2020          FALSE   TRUE       FALSE               FALSE   \n",
       "2       3  11-03-2020          FALSE   TRUE       FALSE               FALSE   \n",
       "3       4  11-03-2020           TRUE  FALSE       FALSE               FALSE   \n",
       "4       5  11-03-2020           TRUE  FALSE       FALSE               FALSE   \n",
       "\n",
       "  Headache    Corona Age_60_above   Sex           Known_contact  \n",
       "0    FALSE  negative         None  None                  Abroad  \n",
       "1    FALSE  positive         None  None                  Abroad  \n",
       "2    FALSE  positive         None  None                  Abroad  \n",
       "3    FALSE  negative         None  None                  Abroad  \n",
       "4    FALSE  negative         None  None  Contact with confirmed  "
      ]
     },
     "execution_count": 3,
     "metadata": {},
     "output_type": "execute_result"
    }
   ],
   "source": [
    "df.head()"
   ]
  },
  {
   "cell_type": "code",
   "execution_count": 4,
   "id": "32c1d3f5",
   "metadata": {
    "scrolled": true
   },
   "outputs": [
    {
     "data": {
      "text/html": [
       "<div>\n",
       "<style scoped>\n",
       "    .dataframe tbody tr th:only-of-type {\n",
       "        vertical-align: middle;\n",
       "    }\n",
       "\n",
       "    .dataframe tbody tr th {\n",
       "        vertical-align: top;\n",
       "    }\n",
       "\n",
       "    .dataframe thead th {\n",
       "        text-align: right;\n",
       "    }\n",
       "</style>\n",
       "<table border=\"1\" class=\"dataframe\">\n",
       "  <thead>\n",
       "    <tr style=\"text-align: right;\">\n",
       "      <th></th>\n",
       "      <th>Ind_ID</th>\n",
       "      <th>Test_date</th>\n",
       "      <th>Cough_symptoms</th>\n",
       "      <th>Fever</th>\n",
       "      <th>Sore_throat</th>\n",
       "      <th>Shortness_of_breath</th>\n",
       "      <th>Headache</th>\n",
       "      <th>Corona</th>\n",
       "      <th>Age_60_above</th>\n",
       "      <th>Sex</th>\n",
       "      <th>Known_contact</th>\n",
       "    </tr>\n",
       "  </thead>\n",
       "  <tbody>\n",
       "    <tr>\n",
       "      <th>count</th>\n",
       "      <td>278848.000000</td>\n",
       "      <td>278848</td>\n",
       "      <td>278848</td>\n",
       "      <td>278848</td>\n",
       "      <td>278848</td>\n",
       "      <td>278848</td>\n",
       "      <td>278848</td>\n",
       "      <td>278848</td>\n",
       "      <td>278848</td>\n",
       "      <td>278848</td>\n",
       "      <td>278848</td>\n",
       "    </tr>\n",
       "    <tr>\n",
       "      <th>unique</th>\n",
       "      <td>NaN</td>\n",
       "      <td>51</td>\n",
       "      <td>5</td>\n",
       "      <td>5</td>\n",
       "      <td>5</td>\n",
       "      <td>5</td>\n",
       "      <td>5</td>\n",
       "      <td>3</td>\n",
       "      <td>3</td>\n",
       "      <td>3</td>\n",
       "      <td>3</td>\n",
       "    </tr>\n",
       "    <tr>\n",
       "      <th>top</th>\n",
       "      <td>NaN</td>\n",
       "      <td>20-04-2020</td>\n",
       "      <td>False</td>\n",
       "      <td>False</td>\n",
       "      <td>False</td>\n",
       "      <td>False</td>\n",
       "      <td>False</td>\n",
       "      <td>negative</td>\n",
       "      <td>None</td>\n",
       "      <td>female</td>\n",
       "      <td>Other</td>\n",
       "    </tr>\n",
       "    <tr>\n",
       "      <th>freq</th>\n",
       "      <td>NaN</td>\n",
       "      <td>10921</td>\n",
       "      <td>127531</td>\n",
       "      <td>137774</td>\n",
       "      <td>212584</td>\n",
       "      <td>212842</td>\n",
       "      <td>212326</td>\n",
       "      <td>260227</td>\n",
       "      <td>127320</td>\n",
       "      <td>130158</td>\n",
       "      <td>242741</td>\n",
       "    </tr>\n",
       "    <tr>\n",
       "      <th>mean</th>\n",
       "      <td>139424.500000</td>\n",
       "      <td>NaN</td>\n",
       "      <td>NaN</td>\n",
       "      <td>NaN</td>\n",
       "      <td>NaN</td>\n",
       "      <td>NaN</td>\n",
       "      <td>NaN</td>\n",
       "      <td>NaN</td>\n",
       "      <td>NaN</td>\n",
       "      <td>NaN</td>\n",
       "      <td>NaN</td>\n",
       "    </tr>\n",
       "    <tr>\n",
       "      <th>std</th>\n",
       "      <td>80496.628269</td>\n",
       "      <td>NaN</td>\n",
       "      <td>NaN</td>\n",
       "      <td>NaN</td>\n",
       "      <td>NaN</td>\n",
       "      <td>NaN</td>\n",
       "      <td>NaN</td>\n",
       "      <td>NaN</td>\n",
       "      <td>NaN</td>\n",
       "      <td>NaN</td>\n",
       "      <td>NaN</td>\n",
       "    </tr>\n",
       "    <tr>\n",
       "      <th>min</th>\n",
       "      <td>1.000000</td>\n",
       "      <td>NaN</td>\n",
       "      <td>NaN</td>\n",
       "      <td>NaN</td>\n",
       "      <td>NaN</td>\n",
       "      <td>NaN</td>\n",
       "      <td>NaN</td>\n",
       "      <td>NaN</td>\n",
       "      <td>NaN</td>\n",
       "      <td>NaN</td>\n",
       "      <td>NaN</td>\n",
       "    </tr>\n",
       "    <tr>\n",
       "      <th>25%</th>\n",
       "      <td>69712.750000</td>\n",
       "      <td>NaN</td>\n",
       "      <td>NaN</td>\n",
       "      <td>NaN</td>\n",
       "      <td>NaN</td>\n",
       "      <td>NaN</td>\n",
       "      <td>NaN</td>\n",
       "      <td>NaN</td>\n",
       "      <td>NaN</td>\n",
       "      <td>NaN</td>\n",
       "      <td>NaN</td>\n",
       "    </tr>\n",
       "    <tr>\n",
       "      <th>50%</th>\n",
       "      <td>139424.500000</td>\n",
       "      <td>NaN</td>\n",
       "      <td>NaN</td>\n",
       "      <td>NaN</td>\n",
       "      <td>NaN</td>\n",
       "      <td>NaN</td>\n",
       "      <td>NaN</td>\n",
       "      <td>NaN</td>\n",
       "      <td>NaN</td>\n",
       "      <td>NaN</td>\n",
       "      <td>NaN</td>\n",
       "    </tr>\n",
       "    <tr>\n",
       "      <th>75%</th>\n",
       "      <td>209136.250000</td>\n",
       "      <td>NaN</td>\n",
       "      <td>NaN</td>\n",
       "      <td>NaN</td>\n",
       "      <td>NaN</td>\n",
       "      <td>NaN</td>\n",
       "      <td>NaN</td>\n",
       "      <td>NaN</td>\n",
       "      <td>NaN</td>\n",
       "      <td>NaN</td>\n",
       "      <td>NaN</td>\n",
       "    </tr>\n",
       "    <tr>\n",
       "      <th>max</th>\n",
       "      <td>278848.000000</td>\n",
       "      <td>NaN</td>\n",
       "      <td>NaN</td>\n",
       "      <td>NaN</td>\n",
       "      <td>NaN</td>\n",
       "      <td>NaN</td>\n",
       "      <td>NaN</td>\n",
       "      <td>NaN</td>\n",
       "      <td>NaN</td>\n",
       "      <td>NaN</td>\n",
       "      <td>NaN</td>\n",
       "    </tr>\n",
       "  </tbody>\n",
       "</table>\n",
       "</div>"
      ],
      "text/plain": [
       "               Ind_ID   Test_date Cough_symptoms   Fever Sore_throat  \\\n",
       "count   278848.000000      278848         278848  278848      278848   \n",
       "unique            NaN          51              5       5           5   \n",
       "top               NaN  20-04-2020          False   False       False   \n",
       "freq              NaN       10921         127531  137774      212584   \n",
       "mean    139424.500000         NaN            NaN     NaN         NaN   \n",
       "std      80496.628269         NaN            NaN     NaN         NaN   \n",
       "min          1.000000         NaN            NaN     NaN         NaN   \n",
       "25%      69712.750000         NaN            NaN     NaN         NaN   \n",
       "50%     139424.500000         NaN            NaN     NaN         NaN   \n",
       "75%     209136.250000         NaN            NaN     NaN         NaN   \n",
       "max     278848.000000         NaN            NaN     NaN         NaN   \n",
       "\n",
       "       Shortness_of_breath Headache    Corona Age_60_above     Sex  \\\n",
       "count               278848   278848    278848       278848  278848   \n",
       "unique                   5        5         3            3       3   \n",
       "top                  False    False  negative         None  female   \n",
       "freq                212842   212326    260227       127320  130158   \n",
       "mean                   NaN      NaN       NaN          NaN     NaN   \n",
       "std                    NaN      NaN       NaN          NaN     NaN   \n",
       "min                    NaN      NaN       NaN          NaN     NaN   \n",
       "25%                    NaN      NaN       NaN          NaN     NaN   \n",
       "50%                    NaN      NaN       NaN          NaN     NaN   \n",
       "75%                    NaN      NaN       NaN          NaN     NaN   \n",
       "max                    NaN      NaN       NaN          NaN     NaN   \n",
       "\n",
       "       Known_contact  \n",
       "count         278848  \n",
       "unique             3  \n",
       "top            Other  \n",
       "freq          242741  \n",
       "mean             NaN  \n",
       "std              NaN  \n",
       "min              NaN  \n",
       "25%              NaN  \n",
       "50%              NaN  \n",
       "75%              NaN  \n",
       "max              NaN  "
      ]
     },
     "execution_count": 4,
     "metadata": {},
     "output_type": "execute_result"
    }
   ],
   "source": [
    "df.describe(include='all')"
   ]
  },
  {
   "cell_type": "markdown",
   "id": "aa4aa9c9",
   "metadata": {},
   "source": [
    "Lets remove date and id colums ."
   ]
  },
  {
   "cell_type": "code",
   "execution_count": 5,
   "id": "fad3107a",
   "metadata": {},
   "outputs": [],
   "source": [
    "df1=df.drop(['Ind_ID','Test_date'],axis=1)"
   ]
  },
  {
   "cell_type": "code",
   "execution_count": 6,
   "id": "32d43bce",
   "metadata": {},
   "outputs": [
    {
     "data": {
      "text/html": [
       "<div>\n",
       "<style scoped>\n",
       "    .dataframe tbody tr th:only-of-type {\n",
       "        vertical-align: middle;\n",
       "    }\n",
       "\n",
       "    .dataframe tbody tr th {\n",
       "        vertical-align: top;\n",
       "    }\n",
       "\n",
       "    .dataframe thead th {\n",
       "        text-align: right;\n",
       "    }\n",
       "</style>\n",
       "<table border=\"1\" class=\"dataframe\">\n",
       "  <thead>\n",
       "    <tr style=\"text-align: right;\">\n",
       "      <th></th>\n",
       "      <th>Cough_symptoms</th>\n",
       "      <th>Fever</th>\n",
       "      <th>Sore_throat</th>\n",
       "      <th>Shortness_of_breath</th>\n",
       "      <th>Headache</th>\n",
       "      <th>Corona</th>\n",
       "      <th>Age_60_above</th>\n",
       "      <th>Sex</th>\n",
       "      <th>Known_contact</th>\n",
       "    </tr>\n",
       "  </thead>\n",
       "  <tbody>\n",
       "    <tr>\n",
       "      <th>0</th>\n",
       "      <td>TRUE</td>\n",
       "      <td>FALSE</td>\n",
       "      <td>TRUE</td>\n",
       "      <td>FALSE</td>\n",
       "      <td>FALSE</td>\n",
       "      <td>negative</td>\n",
       "      <td>None</td>\n",
       "      <td>None</td>\n",
       "      <td>Abroad</td>\n",
       "    </tr>\n",
       "    <tr>\n",
       "      <th>1</th>\n",
       "      <td>FALSE</td>\n",
       "      <td>TRUE</td>\n",
       "      <td>FALSE</td>\n",
       "      <td>FALSE</td>\n",
       "      <td>FALSE</td>\n",
       "      <td>positive</td>\n",
       "      <td>None</td>\n",
       "      <td>None</td>\n",
       "      <td>Abroad</td>\n",
       "    </tr>\n",
       "    <tr>\n",
       "      <th>2</th>\n",
       "      <td>FALSE</td>\n",
       "      <td>TRUE</td>\n",
       "      <td>FALSE</td>\n",
       "      <td>FALSE</td>\n",
       "      <td>FALSE</td>\n",
       "      <td>positive</td>\n",
       "      <td>None</td>\n",
       "      <td>None</td>\n",
       "      <td>Abroad</td>\n",
       "    </tr>\n",
       "    <tr>\n",
       "      <th>3</th>\n",
       "      <td>TRUE</td>\n",
       "      <td>FALSE</td>\n",
       "      <td>FALSE</td>\n",
       "      <td>FALSE</td>\n",
       "      <td>FALSE</td>\n",
       "      <td>negative</td>\n",
       "      <td>None</td>\n",
       "      <td>None</td>\n",
       "      <td>Abroad</td>\n",
       "    </tr>\n",
       "    <tr>\n",
       "      <th>4</th>\n",
       "      <td>TRUE</td>\n",
       "      <td>FALSE</td>\n",
       "      <td>FALSE</td>\n",
       "      <td>FALSE</td>\n",
       "      <td>FALSE</td>\n",
       "      <td>negative</td>\n",
       "      <td>None</td>\n",
       "      <td>None</td>\n",
       "      <td>Contact with confirmed</td>\n",
       "    </tr>\n",
       "  </tbody>\n",
       "</table>\n",
       "</div>"
      ],
      "text/plain": [
       "  Cough_symptoms  Fever Sore_throat Shortness_of_breath Headache    Corona  \\\n",
       "0           TRUE  FALSE        TRUE               FALSE    FALSE  negative   \n",
       "1          FALSE   TRUE       FALSE               FALSE    FALSE  positive   \n",
       "2          FALSE   TRUE       FALSE               FALSE    FALSE  positive   \n",
       "3           TRUE  FALSE       FALSE               FALSE    FALSE  negative   \n",
       "4           TRUE  FALSE       FALSE               FALSE    FALSE  negative   \n",
       "\n",
       "  Age_60_above   Sex           Known_contact  \n",
       "0         None  None                  Abroad  \n",
       "1         None  None                  Abroad  \n",
       "2         None  None                  Abroad  \n",
       "3         None  None                  Abroad  \n",
       "4         None  None  Contact with confirmed  "
      ]
     },
     "execution_count": 6,
     "metadata": {},
     "output_type": "execute_result"
    }
   ],
   "source": [
    "df1.head()"
   ]
  },
  {
   "cell_type": "markdown",
   "id": "92100a6d",
   "metadata": {},
   "source": [
    "Our target variable is corona lets keep that at last colum."
   ]
  },
  {
   "cell_type": "code",
   "execution_count": 7,
   "id": "9a7103bf",
   "metadata": {},
   "outputs": [],
   "source": [
    "df1=df1.iloc[:,[0,1,2,3,4,6,7,8,5]]"
   ]
  },
  {
   "cell_type": "code",
   "execution_count": 8,
   "id": "b3efe82f",
   "metadata": {
    "scrolled": true
   },
   "outputs": [
    {
     "data": {
      "text/html": [
       "<div>\n",
       "<style scoped>\n",
       "    .dataframe tbody tr th:only-of-type {\n",
       "        vertical-align: middle;\n",
       "    }\n",
       "\n",
       "    .dataframe tbody tr th {\n",
       "        vertical-align: top;\n",
       "    }\n",
       "\n",
       "    .dataframe thead th {\n",
       "        text-align: right;\n",
       "    }\n",
       "</style>\n",
       "<table border=\"1\" class=\"dataframe\">\n",
       "  <thead>\n",
       "    <tr style=\"text-align: right;\">\n",
       "      <th></th>\n",
       "      <th>Cough_symptoms</th>\n",
       "      <th>Fever</th>\n",
       "      <th>Sore_throat</th>\n",
       "      <th>Shortness_of_breath</th>\n",
       "      <th>Headache</th>\n",
       "      <th>Age_60_above</th>\n",
       "      <th>Sex</th>\n",
       "      <th>Known_contact</th>\n",
       "      <th>Corona</th>\n",
       "    </tr>\n",
       "  </thead>\n",
       "  <tbody>\n",
       "    <tr>\n",
       "      <th>0</th>\n",
       "      <td>TRUE</td>\n",
       "      <td>FALSE</td>\n",
       "      <td>TRUE</td>\n",
       "      <td>FALSE</td>\n",
       "      <td>FALSE</td>\n",
       "      <td>None</td>\n",
       "      <td>None</td>\n",
       "      <td>Abroad</td>\n",
       "      <td>negative</td>\n",
       "    </tr>\n",
       "    <tr>\n",
       "      <th>1</th>\n",
       "      <td>FALSE</td>\n",
       "      <td>TRUE</td>\n",
       "      <td>FALSE</td>\n",
       "      <td>FALSE</td>\n",
       "      <td>FALSE</td>\n",
       "      <td>None</td>\n",
       "      <td>None</td>\n",
       "      <td>Abroad</td>\n",
       "      <td>positive</td>\n",
       "    </tr>\n",
       "    <tr>\n",
       "      <th>2</th>\n",
       "      <td>FALSE</td>\n",
       "      <td>TRUE</td>\n",
       "      <td>FALSE</td>\n",
       "      <td>FALSE</td>\n",
       "      <td>FALSE</td>\n",
       "      <td>None</td>\n",
       "      <td>None</td>\n",
       "      <td>Abroad</td>\n",
       "      <td>positive</td>\n",
       "    </tr>\n",
       "    <tr>\n",
       "      <th>3</th>\n",
       "      <td>TRUE</td>\n",
       "      <td>FALSE</td>\n",
       "      <td>FALSE</td>\n",
       "      <td>FALSE</td>\n",
       "      <td>FALSE</td>\n",
       "      <td>None</td>\n",
       "      <td>None</td>\n",
       "      <td>Abroad</td>\n",
       "      <td>negative</td>\n",
       "    </tr>\n",
       "    <tr>\n",
       "      <th>4</th>\n",
       "      <td>TRUE</td>\n",
       "      <td>FALSE</td>\n",
       "      <td>FALSE</td>\n",
       "      <td>FALSE</td>\n",
       "      <td>FALSE</td>\n",
       "      <td>None</td>\n",
       "      <td>None</td>\n",
       "      <td>Contact with confirmed</td>\n",
       "      <td>negative</td>\n",
       "    </tr>\n",
       "  </tbody>\n",
       "</table>\n",
       "</div>"
      ],
      "text/plain": [
       "  Cough_symptoms  Fever Sore_throat Shortness_of_breath Headache Age_60_above  \\\n",
       "0           TRUE  FALSE        TRUE               FALSE    FALSE         None   \n",
       "1          FALSE   TRUE       FALSE               FALSE    FALSE         None   \n",
       "2          FALSE   TRUE       FALSE               FALSE    FALSE         None   \n",
       "3           TRUE  FALSE       FALSE               FALSE    FALSE         None   \n",
       "4           TRUE  FALSE       FALSE               FALSE    FALSE         None   \n",
       "\n",
       "    Sex           Known_contact    Corona  \n",
       "0  None                  Abroad  negative  \n",
       "1  None                  Abroad  positive  \n",
       "2  None                  Abroad  positive  \n",
       "3  None                  Abroad  negative  \n",
       "4  None  Contact with confirmed  negative  "
      ]
     },
     "execution_count": 8,
     "metadata": {},
     "output_type": "execute_result"
    }
   ],
   "source": [
    "df1.head()"
   ]
  },
  {
   "cell_type": "code",
   "execution_count": 9,
   "id": "8a2b7fa5",
   "metadata": {},
   "outputs": [
    {
     "data": {
      "text/html": [
       "<div>\n",
       "<style scoped>\n",
       "    .dataframe tbody tr th:only-of-type {\n",
       "        vertical-align: middle;\n",
       "    }\n",
       "\n",
       "    .dataframe tbody tr th {\n",
       "        vertical-align: top;\n",
       "    }\n",
       "\n",
       "    .dataframe thead th {\n",
       "        text-align: right;\n",
       "    }\n",
       "</style>\n",
       "<table border=\"1\" class=\"dataframe\">\n",
       "  <thead>\n",
       "    <tr style=\"text-align: right;\">\n",
       "      <th></th>\n",
       "      <th>Cough_symptoms</th>\n",
       "      <th>Fever</th>\n",
       "      <th>Sore_throat</th>\n",
       "      <th>Shortness_of_breath</th>\n",
       "      <th>Headache</th>\n",
       "      <th>Age_60_above</th>\n",
       "      <th>Sex</th>\n",
       "      <th>Known_contact</th>\n",
       "      <th>Corona</th>\n",
       "    </tr>\n",
       "  </thead>\n",
       "  <tbody>\n",
       "    <tr>\n",
       "      <th>count</th>\n",
       "      <td>278848</td>\n",
       "      <td>278848</td>\n",
       "      <td>278848</td>\n",
       "      <td>278848</td>\n",
       "      <td>278848</td>\n",
       "      <td>278848</td>\n",
       "      <td>278848</td>\n",
       "      <td>278848</td>\n",
       "      <td>278848</td>\n",
       "    </tr>\n",
       "    <tr>\n",
       "      <th>unique</th>\n",
       "      <td>5</td>\n",
       "      <td>5</td>\n",
       "      <td>5</td>\n",
       "      <td>5</td>\n",
       "      <td>5</td>\n",
       "      <td>3</td>\n",
       "      <td>3</td>\n",
       "      <td>3</td>\n",
       "      <td>3</td>\n",
       "    </tr>\n",
       "    <tr>\n",
       "      <th>top</th>\n",
       "      <td>False</td>\n",
       "      <td>False</td>\n",
       "      <td>False</td>\n",
       "      <td>False</td>\n",
       "      <td>False</td>\n",
       "      <td>None</td>\n",
       "      <td>female</td>\n",
       "      <td>Other</td>\n",
       "      <td>negative</td>\n",
       "    </tr>\n",
       "    <tr>\n",
       "      <th>freq</th>\n",
       "      <td>127531</td>\n",
       "      <td>137774</td>\n",
       "      <td>212584</td>\n",
       "      <td>212842</td>\n",
       "      <td>212326</td>\n",
       "      <td>127320</td>\n",
       "      <td>130158</td>\n",
       "      <td>242741</td>\n",
       "      <td>260227</td>\n",
       "    </tr>\n",
       "  </tbody>\n",
       "</table>\n",
       "</div>"
      ],
      "text/plain": [
       "       Cough_symptoms   Fever Sore_throat Shortness_of_breath Headache  \\\n",
       "count          278848  278848      278848              278848   278848   \n",
       "unique              5       5           5                   5        5   \n",
       "top             False   False       False               False    False   \n",
       "freq           127531  137774      212584              212842   212326   \n",
       "\n",
       "       Age_60_above     Sex Known_contact    Corona  \n",
       "count        278848  278848        278848    278848  \n",
       "unique            3       3             3         3  \n",
       "top            None  female         Other  negative  \n",
       "freq         127320  130158        242741    260227  "
      ]
     },
     "execution_count": 9,
     "metadata": {},
     "output_type": "execute_result"
    }
   ],
   "source": [
    "df1.describe()"
   ]
  },
  {
   "cell_type": "markdown",
   "id": "4c540278",
   "metadata": {},
   "source": [
    "We can see 5 unique values in first 5 columns and 3 unique values in rest of the values lets explore it a bit more."
   ]
  },
  {
   "cell_type": "code",
   "execution_count": 10,
   "id": "e4922d2b",
   "metadata": {},
   "outputs": [
    {
     "data": {
      "text/plain": [
       "Cough_symptoms         0\n",
       "Fever                  0\n",
       "Sore_throat            0\n",
       "Shortness_of_breath    0\n",
       "Headache               0\n",
       "Age_60_above           0\n",
       "Sex                    0\n",
       "Known_contact          0\n",
       "Corona                 0\n",
       "dtype: int64"
      ]
     },
     "execution_count": 10,
     "metadata": {},
     "output_type": "execute_result"
    }
   ],
   "source": [
    "df1.isnull().sum()"
   ]
  },
  {
   "cell_type": "code",
   "execution_count": 11,
   "id": "e7101a8a",
   "metadata": {},
   "outputs": [
    {
     "name": "stdout",
     "output_type": "stream",
     "text": [
      "Cough_symptoms ['TRUE' 'FALSE' 'None' False True]\n",
      "Fever ['FALSE' 'TRUE' 'None' False True]\n",
      "Sore_throat ['TRUE' 'FALSE' 'None' False True]\n",
      "Shortness_of_breath ['FALSE' 'TRUE' 'None' False True]\n",
      "Headache ['FALSE' 'TRUE' 'None' False True]\n",
      "Age_60_above ['None' 'No' 'Yes']\n",
      "Sex ['None' 'male' 'female']\n",
      "Known_contact ['Abroad' 'Contact with confirmed' 'Other']\n",
      "Corona ['negative' 'positive' 'other']\n"
     ]
    }
   ],
   "source": [
    "for i in df1.columns:\n",
    "    print(i,df1[i].unique())"
   ]
  },
  {
   "cell_type": "markdown",
   "id": "1186e53d",
   "metadata": {},
   "source": [
    "we see none in many columns lets replace it by np.nan and see the percent of missing values."
   ]
  },
  {
   "cell_type": "code",
   "execution_count": 12,
   "id": "76e3049e",
   "metadata": {},
   "outputs": [],
   "source": [
    "df2=df1.replace('None',np.nan)"
   ]
  },
  {
   "cell_type": "code",
   "execution_count": 13,
   "id": "29b5dd03",
   "metadata": {},
   "outputs": [
    {
     "data": {
      "text/plain": [
       "Cough_symptoms         0.000904\n",
       "Fever                  0.000904\n",
       "Sore_throat            0.000004\n",
       "Shortness_of_breath    0.000004\n",
       "Headache               0.000004\n",
       "Age_60_above           0.456593\n",
       "Sex                    0.070157\n",
       "Known_contact          0.000000\n",
       "Corona                 0.000000\n",
       "dtype: float64"
      ]
     },
     "execution_count": 13,
     "metadata": {},
     "output_type": "execute_result"
    }
   ],
   "source": [
    "df2.isnull().mean()"
   ]
  },
  {
   "cell_type": "code",
   "execution_count": 14,
   "id": "ffbc6b3c",
   "metadata": {},
   "outputs": [
    {
     "data": {
      "text/plain": [
       "<AxesSubplot:>"
      ]
     },
     "execution_count": 14,
     "metadata": {},
     "output_type": "execute_result"
    },
    {
     "data": {
      "image/png": "[encoded data removed]",
      "text/plain": [
       "<Figure size 1800x720 with 2 Axes>"
      ]
     },
     "metadata": {
      "needs_background": "light"
     },
     "output_type": "display_data"
    }
   ],
   "source": [
    "sorted = df2.sort_values('Sex')\n",
    "msno.matrix(sorted)"
   ]
  },
  {
   "cell_type": "markdown",
   "id": "8724eee8",
   "metadata": {},
   "source": [
    "Age above 60 colum has 45 percent missing values lets remove it."
   ]
  },
  {
   "cell_type": "code",
   "execution_count": 15,
   "id": "7654fb49",
   "metadata": {},
   "outputs": [],
   "source": [
    "df3=df2.drop(['Age_60_above'],axis=1)"
   ]
  },
  {
   "cell_type": "code",
   "execution_count": 16,
   "id": "c4240f3e",
   "metadata": {},
   "outputs": [
    {
     "data": {
      "text/plain": [
       "Cough_symptoms           252\n",
       "Fever                    252\n",
       "Sore_throat                1\n",
       "Shortness_of_breath        1\n",
       "Headache                   1\n",
       "Sex                    19563\n",
       "Known_contact              0\n",
       "Corona                     0\n",
       "dtype: int64"
      ]
     },
     "execution_count": 16,
     "metadata": {},
     "output_type": "execute_result"
    }
   ],
   "source": [
    "\n",
    "\n",
    "df3.isnull().sum()"
   ]
  },
  {
   "cell_type": "markdown",
   "id": "2f427e7b",
   "metadata": {},
   "source": [
    "other columns has missing values less than 1 percent lets remove the values "
   ]
  },
  {
   "cell_type": "code",
   "execution_count": 17,
   "id": "cef526f2",
   "metadata": {},
   "outputs": [],
   "source": [
    "df4=df3.dropna()"
   ]
  },
  {
   "cell_type": "code",
   "execution_count": 18,
   "id": "a06b8931",
   "metadata": {},
   "outputs": [
    {
     "data": {
      "text/html": [
       "<div>\n",
       "<style scoped>\n",
       "    .dataframe tbody tr th:only-of-type {\n",
       "        vertical-align: middle;\n",
       "    }\n",
       "\n",
       "    .dataframe tbody tr th {\n",
       "        vertical-align: top;\n",
       "    }\n",
       "\n",
       "    .dataframe thead th {\n",
       "        text-align: right;\n",
       "    }\n",
       "</style>\n",
       "<table border=\"1\" class=\"dataframe\">\n",
       "  <thead>\n",
       "    <tr style=\"text-align: right;\">\n",
       "      <th></th>\n",
       "      <th>Cough_symptoms</th>\n",
       "      <th>Fever</th>\n",
       "      <th>Sore_throat</th>\n",
       "      <th>Shortness_of_breath</th>\n",
       "      <th>Headache</th>\n",
       "      <th>Sex</th>\n",
       "      <th>Known_contact</th>\n",
       "      <th>Corona</th>\n",
       "    </tr>\n",
       "  </thead>\n",
       "  <tbody>\n",
       "    <tr>\n",
       "      <th>13727</th>\n",
       "      <td>TRUE</td>\n",
       "      <td>FALSE</td>\n",
       "      <td>FALSE</td>\n",
       "      <td>FALSE</td>\n",
       "      <td>FALSE</td>\n",
       "      <td>male</td>\n",
       "      <td>Abroad</td>\n",
       "      <td>negative</td>\n",
       "    </tr>\n",
       "    <tr>\n",
       "      <th>13728</th>\n",
       "      <td>TRUE</td>\n",
       "      <td>FALSE</td>\n",
       "      <td>FALSE</td>\n",
       "      <td>FALSE</td>\n",
       "      <td>FALSE</td>\n",
       "      <td>female</td>\n",
       "      <td>Abroad</td>\n",
       "      <td>negative</td>\n",
       "    </tr>\n",
       "    <tr>\n",
       "      <th>13730</th>\n",
       "      <td>TRUE</td>\n",
       "      <td>TRUE</td>\n",
       "      <td>FALSE</td>\n",
       "      <td>FALSE</td>\n",
       "      <td>FALSE</td>\n",
       "      <td>female</td>\n",
       "      <td>Other</td>\n",
       "      <td>positive</td>\n",
       "    </tr>\n",
       "    <tr>\n",
       "      <th>13731</th>\n",
       "      <td>FALSE</td>\n",
       "      <td>FALSE</td>\n",
       "      <td>FALSE</td>\n",
       "      <td>FALSE</td>\n",
       "      <td>FALSE</td>\n",
       "      <td>female</td>\n",
       "      <td>Other</td>\n",
       "      <td>other</td>\n",
       "    </tr>\n",
       "    <tr>\n",
       "      <th>13732</th>\n",
       "      <td>FALSE</td>\n",
       "      <td>FALSE</td>\n",
       "      <td>FALSE</td>\n",
       "      <td>FALSE</td>\n",
       "      <td>FALSE</td>\n",
       "      <td>female</td>\n",
       "      <td>Other</td>\n",
       "      <td>other</td>\n",
       "    </tr>\n",
       "  </tbody>\n",
       "</table>\n",
       "</div>"
      ],
      "text/plain": [
       "      Cough_symptoms  Fever Sore_throat Shortness_of_breath Headache     Sex  \\\n",
       "13727           TRUE  FALSE       FALSE               FALSE    FALSE    male   \n",
       "13728           TRUE  FALSE       FALSE               FALSE    FALSE  female   \n",
       "13730           TRUE   TRUE       FALSE               FALSE    FALSE  female   \n",
       "13731          FALSE  FALSE       FALSE               FALSE    FALSE  female   \n",
       "13732          FALSE  FALSE       FALSE               FALSE    FALSE  female   \n",
       "\n",
       "      Known_contact    Corona  \n",
       "13727        Abroad  negative  \n",
       "13728        Abroad  negative  \n",
       "13730         Other  positive  \n",
       "13731         Other     other  \n",
       "13732         Other     other  "
      ]
     },
     "execution_count": 18,
     "metadata": {},
     "output_type": "execute_result"
    }
   ],
   "source": [
    "df4.head()"
   ]
  },
  {
   "cell_type": "code",
   "execution_count": 19,
   "id": "0a2e1af9",
   "metadata": {},
   "outputs": [
    {
     "data": {
      "text/plain": [
       "(259042, 8)"
      ]
     },
     "execution_count": 19,
     "metadata": {},
     "output_type": "execute_result"
    }
   ],
   "source": [
    "df4.shape"
   ]
  },
  {
   "cell_type": "code",
   "execution_count": 20,
   "id": "b297ce9c",
   "metadata": {},
   "outputs": [
    {
     "name": "stdout",
     "output_type": "stream",
     "text": [
      "['TRUE' 'FALSE' False True]\n",
      "['FALSE' 'TRUE' False True]\n",
      "['FALSE' 'TRUE' False True]\n",
      "['FALSE' 'TRUE' False True]\n",
      "['FALSE' 'TRUE' False True]\n",
      "['male' 'female']\n",
      "['Abroad' 'Other' 'Contact with confirmed']\n",
      "['negative' 'positive' 'other']\n"
     ]
    }
   ],
   "source": [
    "for i in df4.columns:\n",
    "    print(df4[i].unique())"
   ]
  },
  {
   "cell_type": "markdown",
   "id": "079581da",
   "metadata": {},
   "source": [
    "we see others in our target variable lets see the percentage "
   ]
  },
  {
   "cell_type": "code",
   "execution_count": 21,
   "id": "fe96e98f",
   "metadata": {},
   "outputs": [
    {
     "data": {
      "text/plain": [
       "negative    0.934736\n",
       "positive    0.052239\n",
       "other       0.013025\n",
       "Name: Corona, dtype: float64"
      ]
     },
     "execution_count": 21,
     "metadata": {},
     "output_type": "execute_result"
    }
   ],
   "source": [
    "df4['Corona'].value_counts()/len(df4)"
   ]
  },
  {
   "cell_type": "markdown",
   "id": "7f1560e5",
   "metadata": {},
   "source": [
    "Lets drop it if we try to impute it might create bias."
   ]
  },
  {
   "cell_type": "code",
   "execution_count": 22,
   "id": "621d7d4b",
   "metadata": {},
   "outputs": [
    {
     "name": "stderr",
     "output_type": "stream",
     "text": [
      "C:\\Users\\SREENIVASAN\\AppData\\Local\\Temp\\ipykernel_288\\1680926944.py:1: SettingWithCopyWarning: \n",
      "A value is trying to be set on a copy of a slice from a DataFrame.\n",
      "Try using .loc[row_indexer,col_indexer] = value instead\n",
      "\n",
      "See the caveats in the documentation: https://pandas.pydata.org/pandas-docs/stable/user_guide/indexing.html#returning-a-view-versus-a-copy\n",
      "  df4['Corona']=df4['Corona'].replace('other',np.nan)\n"
     ]
    }
   ],
   "source": [
    "df4['Corona']=df4['Corona'].replace('other',np.nan)"
   ]
  },
  {
   "cell_type": "code",
   "execution_count": 23,
   "id": "636162fc",
   "metadata": {},
   "outputs": [],
   "source": [
    "df5=df4.dropna()"
   ]
  },
  {
   "cell_type": "code",
   "execution_count": null,
   "id": "dd5a7ee4",
   "metadata": {},
   "outputs": [],
   "source": []
  },
  {
   "cell_type": "code",
   "execution_count": 24,
   "id": "2f5ebe06",
   "metadata": {},
   "outputs": [],
   "source": [
    "df5 = df5.replace(['TRUE','FALSE',True,False], ['True','False','True','False'])"
   ]
  },
  {
   "cell_type": "code",
   "execution_count": 25,
   "id": "03a8f52e",
   "metadata": {},
   "outputs": [
    {
     "name": "stdout",
     "output_type": "stream",
     "text": [
      "['True' 'False']\n",
      "['False' 'True']\n",
      "['False' 'True']\n",
      "['False' 'True']\n",
      "['False' 'True']\n",
      "['male' 'female']\n",
      "['Abroad' 'Other' 'Contact with confirmed']\n",
      "['negative' 'positive']\n"
     ]
    }
   ],
   "source": [
    "for i in df5.columns:\n",
    "    print(df5[i].unique())"
   ]
  },
  {
   "cell_type": "code",
   "execution_count": 26,
   "id": "4e9e7d76",
   "metadata": {
    "scrolled": true
   },
   "outputs": [
    {
     "data": {
      "image/png": "[encoded data removed]",
      "text/plain": [
       "<Figure size 432x288 with 1 Axes>"
      ]
     },
     "metadata": {
      "needs_background": "light"
     },
     "output_type": "display_data"
    },
    {
     "data": {
      "image/png": "[encoded data removed]",
      "text/plain": [
       "<Figure size 432x288 with 1 Axes>"
      ]
     },
     "metadata": {
      "needs_background": "light"
     },
     "output_type": "display_data"
    },
    {
     "data": {
      "image/png": "[encoded data removed]",
      "text/plain": [
       "<Figure size 432x288 with 1 Axes>"
      ]
     },
     "metadata": {
      "needs_background": "light"
     },
     "output_type": "display_data"
    },
    {
     "data": {
      "image/png": "[encoded data removed]",
      "text/plain": [
       "<Figure size 432x288 with 1 Axes>"
      ]
     },
     "metadata": {
      "needs_background": "light"
     },
     "output_type": "display_data"
    },
    {
     "data": {
      "image/png": "[encoded data removed]",
      "text/plain": [
       "<Figure size 432x288 with 1 Axes>"
      ]
     },
     "metadata": {
      "needs_background": "light"
     },
     "output_type": "display_data"
    },
    {
     "data": {
      "image/png": "[encoded data removed]",
      "text/plain": [
       "<Figure size 432x288 with 1 Axes>"
      ]
     },
     "metadata": {
      "needs_background": "light"
     },
     "output_type": "display_data"
    },
    {
     "data": {
      "image/png": "[encoded data removed]",
      "text/plain": [
       "<Figure size 432x288 with 1 Axes>"
      ]
     },
     "metadata": {
      "needs_background": "light"
     },
     "output_type": "display_data"
    },
    {
     "data": {
      "image/png": "[encoded data removed]",
      "text/plain": [
       "<Figure size 432x288 with 1 Axes>"
      ]
     },
     "metadata": {
      "needs_background": "light"
     },
     "output_type": "display_data"
    }
   ],
   "source": [
    "for i in df5.columns:\n",
    "    sns.countplot(data=df5,x=i)\n",
    "    plt.show()"
   ]
  },
  {
   "cell_type": "markdown",
   "id": "f20c6bbd",
   "metadata": {},
   "source": [
    "The test results which are possitive are low as compared to the test result which are negative and goes same for cough,fever,sore throat,shortness of breath.\n"
   ]
  },
  {
   "cell_type": "markdown",
   "id": "b773ca64",
   "metadata": {},
   "source": [
    "Lets do some Bivariate alalysis."
   ]
  },
  {
   "cell_type": "code",
   "execution_count": 27,
   "id": "9255c255",
   "metadata": {},
   "outputs": [],
   "source": [
    "l=[i for i in df5.columns if i!='Corona']"
   ]
  },
  {
   "cell_type": "code",
   "execution_count": 28,
   "id": "64bb9597",
   "metadata": {},
   "outputs": [
    {
     "data": {
      "image/png": "[encoded data removed]",
      "text/plain": [
       "<Figure size 432x288 with 1 Axes>"
      ]
     },
     "metadata": {
      "needs_background": "light"
     },
     "output_type": "display_data"
    },
    {
     "data": {
      "image/png": "[encoded data removed]",
      "text/plain": [
       "<Figure size 432x288 with 1 Axes>"
      ]
     },
     "metadata": {
      "needs_background": "light"
     },
     "output_type": "display_data"
    },
    {
     "data": {
      "image/png": "[encoded data removed]",
      "text/plain": [
       "<Figure size 432x288 with 1 Axes>"
      ]
     },
     "metadata": {
      "needs_background": "light"
     },
     "output_type": "display_data"
    },
    {
     "data": {
      "image/png": "[encoded data removed]",
      "text/plain": [
       "<Figure size 432x288 with 1 Axes>"
      ]
     },
     "metadata": {
      "needs_background": "light"
     },
     "output_type": "display_data"
    },
    {
     "data": {
      "image/png": "[encoded data removed]",
      "text/plain": [
       "<Figure size 432x288 with 1 Axes>"
      ]
     },
     "metadata": {
      "needs_background": "light"
     },
     "output_type": "display_data"
    },
    {
     "data": {
      "image/png": "[encoded data removed]",
      "text/plain": [
       "<Figure size 432x288 with 1 Axes>"
      ]
     },
     "metadata": {
      "needs_background": "light"
     },
     "output_type": "display_data"
    },
    {
     "data": {
      "image/png": "[encoded data removed]",
      "text/plain": [
       "<Figure size 432x288 with 1 Axes>"
      ]
     },
     "metadata": {
      "needs_background": "light"
     },
     "output_type": "display_data"
    }
   ],
   "source": [
    "for i in l:\n",
    "    sns.countplot(data=df5,x=i,hue='Corona')\n",
    "    plt.show()"
   ]
  },
  {
   "cell_type": "markdown",
   "id": "7911590f",
   "metadata": {},
   "source": [
    "We see that headache,shortness of breath,sore_throat,contact,sore throat affect the target variable"
   ]
  },
  {
   "cell_type": "markdown",
   "id": "5221b926",
   "metadata": {},
   "source": [
    "Lets split the data into train,test and proceed further."
   ]
  },
  {
   "cell_type": "code",
   "execution_count": 29,
   "id": "2aa494e1",
   "metadata": {},
   "outputs": [],
   "source": [
    "X=df5.drop('Corona',axis=1)\n",
    "y=df5.Corona"
   ]
  },
  {
   "cell_type": "code",
   "execution_count": 30,
   "id": "91d888da",
   "metadata": {},
   "outputs": [
    {
     "data": {
      "text/html": [
       "<div>\n",
       "<style scoped>\n",
       "    .dataframe tbody tr th:only-of-type {\n",
       "        vertical-align: middle;\n",
       "    }\n",
       "\n",
       "    .dataframe tbody tr th {\n",
       "        vertical-align: top;\n",
       "    }\n",
       "\n",
       "    .dataframe thead th {\n",
       "        text-align: right;\n",
       "    }\n",
       "</style>\n",
       "<table border=\"1\" class=\"dataframe\">\n",
       "  <thead>\n",
       "    <tr style=\"text-align: right;\">\n",
       "      <th></th>\n",
       "      <th>Cough_symptoms</th>\n",
       "      <th>Fever</th>\n",
       "      <th>Sore_throat</th>\n",
       "      <th>Shortness_of_breath</th>\n",
       "      <th>Headache</th>\n",
       "      <th>Sex</th>\n",
       "      <th>Known_contact</th>\n",
       "    </tr>\n",
       "  </thead>\n",
       "  <tbody>\n",
       "    <tr>\n",
       "      <th>13727</th>\n",
       "      <td>True</td>\n",
       "      <td>False</td>\n",
       "      <td>False</td>\n",
       "      <td>False</td>\n",
       "      <td>False</td>\n",
       "      <td>male</td>\n",
       "      <td>Abroad</td>\n",
       "    </tr>\n",
       "    <tr>\n",
       "      <th>13728</th>\n",
       "      <td>True</td>\n",
       "      <td>False</td>\n",
       "      <td>False</td>\n",
       "      <td>False</td>\n",
       "      <td>False</td>\n",
       "      <td>female</td>\n",
       "      <td>Abroad</td>\n",
       "    </tr>\n",
       "    <tr>\n",
       "      <th>13730</th>\n",
       "      <td>True</td>\n",
       "      <td>True</td>\n",
       "      <td>False</td>\n",
       "      <td>False</td>\n",
       "      <td>False</td>\n",
       "      <td>female</td>\n",
       "      <td>Other</td>\n",
       "    </tr>\n",
       "    <tr>\n",
       "      <th>13734</th>\n",
       "      <td>False</td>\n",
       "      <td>False</td>\n",
       "      <td>False</td>\n",
       "      <td>False</td>\n",
       "      <td>False</td>\n",
       "      <td>male</td>\n",
       "      <td>Other</td>\n",
       "    </tr>\n",
       "    <tr>\n",
       "      <th>13735</th>\n",
       "      <td>False</td>\n",
       "      <td>False</td>\n",
       "      <td>False</td>\n",
       "      <td>False</td>\n",
       "      <td>False</td>\n",
       "      <td>female</td>\n",
       "      <td>Other</td>\n",
       "    </tr>\n",
       "    <tr>\n",
       "      <th>...</th>\n",
       "      <td>...</td>\n",
       "      <td>...</td>\n",
       "      <td>...</td>\n",
       "      <td>...</td>\n",
       "      <td>...</td>\n",
       "      <td>...</td>\n",
       "      <td>...</td>\n",
       "    </tr>\n",
       "    <tr>\n",
       "      <th>278843</th>\n",
       "      <td>False</td>\n",
       "      <td>False</td>\n",
       "      <td>False</td>\n",
       "      <td>False</td>\n",
       "      <td>False</td>\n",
       "      <td>male</td>\n",
       "      <td>Other</td>\n",
       "    </tr>\n",
       "    <tr>\n",
       "      <th>278844</th>\n",
       "      <td>False</td>\n",
       "      <td>False</td>\n",
       "      <td>False</td>\n",
       "      <td>False</td>\n",
       "      <td>False</td>\n",
       "      <td>female</td>\n",
       "      <td>Other</td>\n",
       "    </tr>\n",
       "    <tr>\n",
       "      <th>278845</th>\n",
       "      <td>False</td>\n",
       "      <td>False</td>\n",
       "      <td>False</td>\n",
       "      <td>False</td>\n",
       "      <td>False</td>\n",
       "      <td>male</td>\n",
       "      <td>Other</td>\n",
       "    </tr>\n",
       "    <tr>\n",
       "      <th>278846</th>\n",
       "      <td>False</td>\n",
       "      <td>False</td>\n",
       "      <td>False</td>\n",
       "      <td>False</td>\n",
       "      <td>False</td>\n",
       "      <td>male</td>\n",
       "      <td>Other</td>\n",
       "    </tr>\n",
       "    <tr>\n",
       "      <th>278847</th>\n",
       "      <td>False</td>\n",
       "      <td>False</td>\n",
       "      <td>False</td>\n",
       "      <td>False</td>\n",
       "      <td>False</td>\n",
       "      <td>female</td>\n",
       "      <td>Other</td>\n",
       "    </tr>\n",
       "  </tbody>\n",
       "</table>\n",
       "<p>255668 rows × 7 columns</p>\n",
       "</div>"
      ],
      "text/plain": [
       "       Cough_symptoms  Fever Sore_throat Shortness_of_breath Headache     Sex  \\\n",
       "13727            True  False       False               False    False    male   \n",
       "13728            True  False       False               False    False  female   \n",
       "13730            True   True       False               False    False  female   \n",
       "13734           False  False       False               False    False    male   \n",
       "13735           False  False       False               False    False  female   \n",
       "...               ...    ...         ...                 ...      ...     ...   \n",
       "278843          False  False       False               False    False    male   \n",
       "278844          False  False       False               False    False  female   \n",
       "278845          False  False       False               False    False    male   \n",
       "278846          False  False       False               False    False    male   \n",
       "278847          False  False       False               False    False  female   \n",
       "\n",
       "       Known_contact  \n",
       "13727         Abroad  \n",
       "13728         Abroad  \n",
       "13730          Other  \n",
       "13734          Other  \n",
       "13735          Other  \n",
       "...              ...  \n",
       "278843         Other  \n",
       "278844         Other  \n",
       "278845         Other  \n",
       "278846         Other  \n",
       "278847         Other  \n",
       "\n",
       "[255668 rows x 7 columns]"
      ]
     },
     "execution_count": 30,
     "metadata": {},
     "output_type": "execute_result"
    }
   ],
   "source": [
    "X"
   ]
  },
  {
   "cell_type": "code",
   "execution_count": null,
   "id": "2f5b365e",
   "metadata": {},
   "outputs": [],
   "source": []
  },
  {
   "cell_type": "code",
   "execution_count": 31,
   "id": "25f139a7",
   "metadata": {},
   "outputs": [],
   "source": [
    "from sklearn.preprocessing import OneHotEncoder\n"
   ]
  },
  {
   "cell_type": "code",
   "execution_count": 32,
   "id": "e7399cee",
   "metadata": {},
   "outputs": [],
   "source": [
    "encoder = OneHotEncoder(categories='auto',\n",
    "                       drop='first', # to return k-1, use drop=false to return k dummies\n",
    "                       sparse=False,\n",
    "                       handle_unknown='error',dtype='int') "
   ]
  },
  {
   "cell_type": "code",
   "execution_count": 33,
   "id": "6d0cb8b7",
   "metadata": {},
   "outputs": [
    {
     "data": {
      "text/plain": [
       "OneHotEncoder(drop='first', dtype='int', sparse=False)"
      ]
     },
     "execution_count": 33,
     "metadata": {},
     "output_type": "execute_result"
    }
   ],
   "source": [
    "\n",
    "encoder.fit(X)"
   ]
  },
  {
   "cell_type": "code",
   "execution_count": 34,
   "id": "958cb1b9",
   "metadata": {},
   "outputs": [
    {
     "data": {
      "text/plain": [
       "[array(['False', 'True'], dtype=object),\n",
       " array(['False', 'True'], dtype=object),\n",
       " array(['False', 'True'], dtype=object),\n",
       " array(['False', 'True'], dtype=object),\n",
       " array(['False', 'True'], dtype=object),\n",
       " array(['female', 'male'], dtype=object),\n",
       " array(['Abroad', 'Contact with confirmed', 'Other'], dtype=object)]"
      ]
     },
     "execution_count": 34,
     "metadata": {},
     "output_type": "execute_result"
    }
   ],
   "source": [
    "encoder.categories_"
   ]
  },
  {
   "cell_type": "code",
   "execution_count": 35,
   "id": "8a3d71de",
   "metadata": {},
   "outputs": [
    {
     "data": {
      "text/plain": [
       "array(['Cough_symptoms_True', 'Fever_True', 'Sore_throat_True',\n",
       "       'Shortness_of_breath_True', 'Headache_True', 'Sex_male',\n",
       "       'Known_contact_Contact with confirmed', 'Known_contact_Other'],\n",
       "      dtype=object)"
      ]
     },
     "execution_count": 35,
     "metadata": {},
     "output_type": "execute_result"
    }
   ],
   "source": [
    "encoder.get_feature_names_out()"
   ]
  },
  {
   "cell_type": "code",
   "execution_count": 36,
   "id": "25f94ee1",
   "metadata": {},
   "outputs": [
    {
     "data": {
      "text/html": [
       "<div>\n",
       "<style scoped>\n",
       "    .dataframe tbody tr th:only-of-type {\n",
       "        vertical-align: middle;\n",
       "    }\n",
       "\n",
       "    .dataframe tbody tr th {\n",
       "        vertical-align: top;\n",
       "    }\n",
       "\n",
       "    .dataframe thead th {\n",
       "        text-align: right;\n",
       "    }\n",
       "</style>\n",
       "<table border=\"1\" class=\"dataframe\">\n",
       "  <thead>\n",
       "    <tr style=\"text-align: right;\">\n",
       "      <th></th>\n",
       "      <th>Cough_symptoms_True</th>\n",
       "      <th>Fever_True</th>\n",
       "      <th>Sore_throat_True</th>\n",
       "      <th>Shortness_of_breath_True</th>\n",
       "      <th>Headache_True</th>\n",
       "      <th>Sex_male</th>\n",
       "      <th>Known_contact_Contact with confirmed</th>\n",
       "      <th>Known_contact_Other</th>\n",
       "    </tr>\n",
       "  </thead>\n",
       "  <tbody>\n",
       "    <tr>\n",
       "      <th>0</th>\n",
       "      <td>1</td>\n",
       "      <td>0</td>\n",
       "      <td>0</td>\n",
       "      <td>0</td>\n",
       "      <td>0</td>\n",
       "      <td>1</td>\n",
       "      <td>0</td>\n",
       "      <td>0</td>\n",
       "    </tr>\n",
       "    <tr>\n",
       "      <th>1</th>\n",
       "      <td>1</td>\n",
       "      <td>0</td>\n",
       "      <td>0</td>\n",
       "      <td>0</td>\n",
       "      <td>0</td>\n",
       "      <td>0</td>\n",
       "      <td>0</td>\n",
       "      <td>0</td>\n",
       "    </tr>\n",
       "    <tr>\n",
       "      <th>2</th>\n",
       "      <td>1</td>\n",
       "      <td>1</td>\n",
       "      <td>0</td>\n",
       "      <td>0</td>\n",
       "      <td>0</td>\n",
       "      <td>0</td>\n",
       "      <td>0</td>\n",
       "      <td>1</td>\n",
       "    </tr>\n",
       "    <tr>\n",
       "      <th>3</th>\n",
       "      <td>0</td>\n",
       "      <td>0</td>\n",
       "      <td>0</td>\n",
       "      <td>0</td>\n",
       "      <td>0</td>\n",
       "      <td>1</td>\n",
       "      <td>0</td>\n",
       "      <td>1</td>\n",
       "    </tr>\n",
       "    <tr>\n",
       "      <th>4</th>\n",
       "      <td>0</td>\n",
       "      <td>0</td>\n",
       "      <td>0</td>\n",
       "      <td>0</td>\n",
       "      <td>0</td>\n",
       "      <td>0</td>\n",
       "      <td>0</td>\n",
       "      <td>1</td>\n",
       "    </tr>\n",
       "  </tbody>\n",
       "</table>\n",
       "</div>"
      ],
      "text/plain": [
       "   Cough_symptoms_True  Fever_True  Sore_throat_True  \\\n",
       "0                    1           0                 0   \n",
       "1                    1           0                 0   \n",
       "2                    1           1                 0   \n",
       "3                    0           0                 0   \n",
       "4                    0           0                 0   \n",
       "\n",
       "   Shortness_of_breath_True  Headache_True  Sex_male  \\\n",
       "0                         0              0         1   \n",
       "1                         0              0         0   \n",
       "2                         0              0         0   \n",
       "3                         0              0         1   \n",
       "4                         0              0         0   \n",
       "\n",
       "   Known_contact_Contact with confirmed  Known_contact_Other  \n",
       "0                                     0                    0  \n",
       "1                                     0                    0  \n",
       "2                                     0                    1  \n",
       "3                                     0                    1  \n",
       "4                                     0                    1  "
      ]
     },
     "execution_count": 36,
     "metadata": {},
     "output_type": "execute_result"
    }
   ],
   "source": [
    "tmp = encoder.transform(X)\n",
    "\n",
    "tmp = pd.DataFrame(tmp)\n",
    "tmp.columns = encoder.get_feature_names_out()\n",
    "X=tmp.copy()\n",
    "X.head()"
   ]
  },
  {
   "cell_type": "code",
   "execution_count": 37,
   "id": "0e85a2ee",
   "metadata": {},
   "outputs": [],
   "source": [
    "y=y.map({'positive':1,'negative':0})"
   ]
  },
  {
   "cell_type": "code",
   "execution_count": 38,
   "id": "43891731",
   "metadata": {},
   "outputs": [
    {
     "data": {
      "text/plain": [
       "13727     0\n",
       "13728     0\n",
       "13730     1\n",
       "13734     0\n",
       "13735     0\n",
       "         ..\n",
       "278843    1\n",
       "278844    0\n",
       "278845    0\n",
       "278846    0\n",
       "278847    0\n",
       "Name: Corona, Length: 255668, dtype: int64"
      ]
     },
     "execution_count": 38,
     "metadata": {},
     "output_type": "execute_result"
    }
   ],
   "source": [
    "y"
   ]
  },
  {
   "cell_type": "code",
   "execution_count": 39,
   "id": "9fe66cb4",
   "metadata": {},
   "outputs": [],
   "source": [
    "from sklearn.feature_selection import chi2\n",
    "from sklearn.feature_selection import SelectKBest\n",
    "f_p_values = chi2(X,y)"
   ]
  },
  {
   "cell_type": "code",
   "execution_count": 40,
   "id": "f2280f2a",
   "metadata": {},
   "outputs": [
    {
     "data": {
      "text/plain": [
       "(array([ 8161.47000721, 15989.97741346, 21842.25009598, 15729.73264397,\n",
       "        34018.17312388,    93.34520088, 83254.65479038,  3812.28419818]),\n",
       " array([0.00000000e+00, 0.00000000e+00, 0.00000000e+00, 0.00000000e+00,\n",
       "        0.00000000e+00, 4.39245332e-22, 0.00000000e+00, 0.00000000e+00]))"
      ]
     },
     "execution_count": 40,
     "metadata": {},
     "output_type": "execute_result"
    }
   ],
   "source": [
    "f_p_values"
   ]
  },
  {
   "cell_type": "code",
   "execution_count": 41,
   "id": "7fb2cde8",
   "metadata": {},
   "outputs": [
    {
     "data": {
      "text/plain": [
       "Cough_symptoms_True                     0.000000e+00\n",
       "Fever_True                              0.000000e+00\n",
       "Sore_throat_True                        0.000000e+00\n",
       "Shortness_of_breath_True                0.000000e+00\n",
       "Headache_True                           0.000000e+00\n",
       "Sex_male                                4.392453e-22\n",
       "Known_contact_Contact with confirmed    0.000000e+00\n",
       "Known_contact_Other                     0.000000e+00\n",
       "dtype: float64"
      ]
     },
     "execution_count": 41,
     "metadata": {},
     "output_type": "execute_result"
    }
   ],
   "source": [
    "import pandas as pd\n",
    "p_values=pd.Series(f_p_values[1])\n",
    "p_values.index=X.columns\n",
    "p_values"
   ]
  },
  {
   "cell_type": "code",
   "execution_count": 42,
   "id": "725b51e9",
   "metadata": {},
   "outputs": [
    {
     "data": {
      "text/plain": [
       "Cough_symptoms_True                     0.000000e+00\n",
       "Fever_True                              0.000000e+00\n",
       "Sore_throat_True                        0.000000e+00\n",
       "Shortness_of_breath_True                0.000000e+00\n",
       "Headache_True                           0.000000e+00\n",
       "Known_contact_Contact with confirmed    0.000000e+00\n",
       "Known_contact_Other                     0.000000e+00\n",
       "Sex_male                                4.392453e-22\n",
       "dtype: float64"
      ]
     },
     "execution_count": 42,
     "metadata": {},
     "output_type": "execute_result"
    }
   ],
   "source": [
    "x=p_values.sort_values(ascending=True)\n",
    "x"
   ]
  },
  {
   "cell_type": "code",
   "execution_count": 43,
   "id": "46ffc3ff",
   "metadata": {},
   "outputs": [
    {
     "data": {
      "text/plain": [
       "<AxesSubplot:>"
      ]
     },
     "execution_count": 43,
     "metadata": {},
     "output_type": "execute_result"
    },
    {
     "data": {
      "image/png": "[encoded data removed]",
      "text/plain": [
       "<Figure size 432x288 with 1 Axes>"
      ]
     },
     "metadata": {
      "needs_background": "light"
     },
     "output_type": "display_data"
    }
   ],
   "source": [
    "x.plot.bar()"
   ]
  },
  {
   "cell_type": "code",
   "execution_count": null,
   "id": "2ad3b8ba",
   "metadata": {},
   "outputs": [],
   "source": []
  },
  {
   "cell_type": "code",
   "execution_count": null,
   "id": "78cc5730",
   "metadata": {},
   "outputs": [],
   "source": []
  },
  {
   "cell_type": "code",
   "execution_count": 44,
   "id": "06d916b9",
   "metadata": {},
   "outputs": [],
   "source": [
    "X=X.drop('Sex_male',axis=1)\n"
   ]
  },
  {
   "cell_type": "code",
   "execution_count": 45,
   "id": "961352f2",
   "metadata": {},
   "outputs": [
    {
     "data": {
      "text/html": [
       "<div>\n",
       "<style scoped>\n",
       "    .dataframe tbody tr th:only-of-type {\n",
       "        vertical-align: middle;\n",
       "    }\n",
       "\n",
       "    .dataframe tbody tr th {\n",
       "        vertical-align: top;\n",
       "    }\n",
       "\n",
       "    .dataframe thead th {\n",
       "        text-align: right;\n",
       "    }\n",
       "</style>\n",
       "<table border=\"1\" class=\"dataframe\">\n",
       "  <thead>\n",
       "    <tr style=\"text-align: right;\">\n",
       "      <th></th>\n",
       "      <th>Cough_symptoms_True</th>\n",
       "      <th>Fever_True</th>\n",
       "      <th>Sore_throat_True</th>\n",
       "      <th>Shortness_of_breath_True</th>\n",
       "      <th>Headache_True</th>\n",
       "      <th>Known_contact_Contact with confirmed</th>\n",
       "      <th>Known_contact_Other</th>\n",
       "    </tr>\n",
       "  </thead>\n",
       "  <tbody>\n",
       "    <tr>\n",
       "      <th>0</th>\n",
       "      <td>1</td>\n",
       "      <td>0</td>\n",
       "      <td>0</td>\n",
       "      <td>0</td>\n",
       "      <td>0</td>\n",
       "      <td>0</td>\n",
       "      <td>0</td>\n",
       "    </tr>\n",
       "    <tr>\n",
       "      <th>1</th>\n",
       "      <td>1</td>\n",
       "      <td>0</td>\n",
       "      <td>0</td>\n",
       "      <td>0</td>\n",
       "      <td>0</td>\n",
       "      <td>0</td>\n",
       "      <td>0</td>\n",
       "    </tr>\n",
       "    <tr>\n",
       "      <th>2</th>\n",
       "      <td>1</td>\n",
       "      <td>1</td>\n",
       "      <td>0</td>\n",
       "      <td>0</td>\n",
       "      <td>0</td>\n",
       "      <td>0</td>\n",
       "      <td>1</td>\n",
       "    </tr>\n",
       "    <tr>\n",
       "      <th>3</th>\n",
       "      <td>0</td>\n",
       "      <td>0</td>\n",
       "      <td>0</td>\n",
       "      <td>0</td>\n",
       "      <td>0</td>\n",
       "      <td>0</td>\n",
       "      <td>1</td>\n",
       "    </tr>\n",
       "    <tr>\n",
       "      <th>4</th>\n",
       "      <td>0</td>\n",
       "      <td>0</td>\n",
       "      <td>0</td>\n",
       "      <td>0</td>\n",
       "      <td>0</td>\n",
       "      <td>0</td>\n",
       "      <td>1</td>\n",
       "    </tr>\n",
       "  </tbody>\n",
       "</table>\n",
       "</div>"
      ],
      "text/plain": [
       "   Cough_symptoms_True  Fever_True  Sore_throat_True  \\\n",
       "0                    1           0                 0   \n",
       "1                    1           0                 0   \n",
       "2                    1           1                 0   \n",
       "3                    0           0                 0   \n",
       "4                    0           0                 0   \n",
       "\n",
       "   Shortness_of_breath_True  Headache_True  \\\n",
       "0                         0              0   \n",
       "1                         0              0   \n",
       "2                         0              0   \n",
       "3                         0              0   \n",
       "4                         0              0   \n",
       "\n",
       "   Known_contact_Contact with confirmed  Known_contact_Other  \n",
       "0                                     0                    0  \n",
       "1                                     0                    0  \n",
       "2                                     0                    1  \n",
       "3                                     0                    1  \n",
       "4                                     0                    1  "
      ]
     },
     "execution_count": 45,
     "metadata": {},
     "output_type": "execute_result"
    }
   ],
   "source": [
    "X.head()"
   ]
  },
  {
   "cell_type": "markdown",
   "id": "bafd35ac",
   "metadata": {},
   "source": [
    "Lets remove sex_male as it has p value greater than 0.05"
   ]
  },
  {
   "cell_type": "markdown",
   "id": "fa1cc52c",
   "metadata": {},
   "source": [
    "Now lets see the p values between features "
   ]
  },
  {
   "cell_type": "code",
   "execution_count": 46,
   "id": "eae001d4",
   "metadata": {},
   "outputs": [],
   "source": [
    "resultant = pd.DataFrame(data=0,columns= X.columns,index=X.columns)\n",
    "for i in X.columns:\n",
    "    for j in X.columns:\n",
    "        if i!=j:\n",
    "            chi2_val, p_val = chi2(np.array(X[i]).reshape(-1, 1), np.array(X[j]).reshape(-1, 1))\n",
    "            resultant.loc[i,j] = p_val"
   ]
  },
  {
   "cell_type": "code",
   "execution_count": 47,
   "id": "878ad92b",
   "metadata": {
    "scrolled": true
   },
   "outputs": [
    {
     "data": {
      "text/html": [
       "<div>\n",
       "<style scoped>\n",
       "    .dataframe tbody tr th:only-of-type {\n",
       "        vertical-align: middle;\n",
       "    }\n",
       "\n",
       "    .dataframe tbody tr th {\n",
       "        vertical-align: top;\n",
       "    }\n",
       "\n",
       "    .dataframe thead th {\n",
       "        text-align: right;\n",
       "    }\n",
       "</style>\n",
       "<table border=\"1\" class=\"dataframe\">\n",
       "  <thead>\n",
       "    <tr style=\"text-align: right;\">\n",
       "      <th></th>\n",
       "      <th>Cough_symptoms_True</th>\n",
       "      <th>Fever_True</th>\n",
       "      <th>Sore_throat_True</th>\n",
       "      <th>Shortness_of_breath_True</th>\n",
       "      <th>Headache_True</th>\n",
       "      <th>Known_contact_Contact with confirmed</th>\n",
       "      <th>Known_contact_Other</th>\n",
       "    </tr>\n",
       "  </thead>\n",
       "  <tbody>\n",
       "    <tr>\n",
       "      <th>Cough_symptoms_True</th>\n",
       "      <td>0</td>\n",
       "      <td>0</td>\n",
       "      <td>0.000000e+00</td>\n",
       "      <td>0.000000e+00</td>\n",
       "      <td>0.000000e+00</td>\n",
       "      <td>0</td>\n",
       "      <td>0</td>\n",
       "    </tr>\n",
       "    <tr>\n",
       "      <th>Fever_True</th>\n",
       "      <td>0</td>\n",
       "      <td>0</td>\n",
       "      <td>0.000000e+00</td>\n",
       "      <td>0.000000e+00</td>\n",
       "      <td>0.000000e+00</td>\n",
       "      <td>0</td>\n",
       "      <td>0</td>\n",
       "    </tr>\n",
       "    <tr>\n",
       "      <th>Sore_throat_True</th>\n",
       "      <td>0</td>\n",
       "      <td>0</td>\n",
       "      <td>0.000000e+00</td>\n",
       "      <td>0.000000e+00</td>\n",
       "      <td>0.000000e+00</td>\n",
       "      <td>0</td>\n",
       "      <td>0</td>\n",
       "    </tr>\n",
       "    <tr>\n",
       "      <th>Shortness_of_breath_True</th>\n",
       "      <td>0</td>\n",
       "      <td>0</td>\n",
       "      <td>0.000000e+00</td>\n",
       "      <td>0.000000e+00</td>\n",
       "      <td>0.000000e+00</td>\n",
       "      <td>0</td>\n",
       "      <td>0</td>\n",
       "    </tr>\n",
       "    <tr>\n",
       "      <th>Headache_True</th>\n",
       "      <td>0</td>\n",
       "      <td>0</td>\n",
       "      <td>0.000000e+00</td>\n",
       "      <td>0.000000e+00</td>\n",
       "      <td>0.000000e+00</td>\n",
       "      <td>0</td>\n",
       "      <td>0</td>\n",
       "    </tr>\n",
       "    <tr>\n",
       "      <th>Known_contact_Contact with confirmed</th>\n",
       "      <td>0</td>\n",
       "      <td>0</td>\n",
       "      <td>0.000000e+00</td>\n",
       "      <td>0.000000e+00</td>\n",
       "      <td>0.000000e+00</td>\n",
       "      <td>0</td>\n",
       "      <td>0</td>\n",
       "    </tr>\n",
       "    <tr>\n",
       "      <th>Known_contact_Other</th>\n",
       "      <td>0</td>\n",
       "      <td>0</td>\n",
       "      <td>1.423969e-99</td>\n",
       "      <td>4.588827e-58</td>\n",
       "      <td>6.841254e-140</td>\n",
       "      <td>0</td>\n",
       "      <td>0</td>\n",
       "    </tr>\n",
       "  </tbody>\n",
       "</table>\n",
       "</div>"
      ],
      "text/plain": [
       "                                      Cough_symptoms_True  Fever_True  \\\n",
       "Cough_symptoms_True                                     0           0   \n",
       "Fever_True                                              0           0   \n",
       "Sore_throat_True                                        0           0   \n",
       "Shortness_of_breath_True                                0           0   \n",
       "Headache_True                                           0           0   \n",
       "Known_contact_Contact with confirmed                    0           0   \n",
       "Known_contact_Other                                     0           0   \n",
       "\n",
       "                                      Sore_throat_True  \\\n",
       "Cough_symptoms_True                       0.000000e+00   \n",
       "Fever_True                                0.000000e+00   \n",
       "Sore_throat_True                          0.000000e+00   \n",
       "Shortness_of_breath_True                  0.000000e+00   \n",
       "Headache_True                             0.000000e+00   \n",
       "Known_contact_Contact with confirmed      0.000000e+00   \n",
       "Known_contact_Other                       1.423969e-99   \n",
       "\n",
       "                                      Shortness_of_breath_True  Headache_True  \\\n",
       "Cough_symptoms_True                               0.000000e+00   0.000000e+00   \n",
       "Fever_True                                        0.000000e+00   0.000000e+00   \n",
       "Sore_throat_True                                  0.000000e+00   0.000000e+00   \n",
       "Shortness_of_breath_True                          0.000000e+00   0.000000e+00   \n",
       "Headache_True                                     0.000000e+00   0.000000e+00   \n",
       "Known_contact_Contact with confirmed              0.000000e+00   0.000000e+00   \n",
       "Known_contact_Other                               4.588827e-58  6.841254e-140   \n",
       "\n",
       "                                      Known_contact_Contact with confirmed  \\\n",
       "Cough_symptoms_True                                                      0   \n",
       "Fever_True                                                               0   \n",
       "Sore_throat_True                                                         0   \n",
       "Shortness_of_breath_True                                                 0   \n",
       "Headache_True                                                            0   \n",
       "Known_contact_Contact with confirmed                                     0   \n",
       "Known_contact_Other                                                      0   \n",
       "\n",
       "                                      Known_contact_Other  \n",
       "Cough_symptoms_True                                     0  \n",
       "Fever_True                                              0  \n",
       "Sore_throat_True                                        0  \n",
       "Shortness_of_breath_True                                0  \n",
       "Headache_True                                           0  \n",
       "Known_contact_Contact with confirmed                    0  \n",
       "Known_contact_Other                                     0  "
      ]
     },
     "execution_count": 47,
     "metadata": {},
     "output_type": "execute_result"
    }
   ],
   "source": [
    "resultant"
   ]
  },
  {
   "cell_type": "code",
   "execution_count": 48,
   "id": "76543332",
   "metadata": {},
   "outputs": [
    {
     "data": {
      "text/html": [
       "<div>\n",
       "<style scoped>\n",
       "    .dataframe tbody tr th:only-of-type {\n",
       "        vertical-align: middle;\n",
       "    }\n",
       "\n",
       "    .dataframe tbody tr th {\n",
       "        vertical-align: top;\n",
       "    }\n",
       "\n",
       "    .dataframe thead th {\n",
       "        text-align: right;\n",
       "    }\n",
       "</style>\n",
       "<table border=\"1\" class=\"dataframe\">\n",
       "  <thead>\n",
       "    <tr style=\"text-align: right;\">\n",
       "      <th></th>\n",
       "      <th>Cough_symptoms_True</th>\n",
       "      <th>Fever_True</th>\n",
       "      <th>Sore_throat_True</th>\n",
       "      <th>Shortness_of_breath_True</th>\n",
       "      <th>Headache_True</th>\n",
       "      <th>Known_contact_Contact with confirmed</th>\n",
       "      <th>Known_contact_Other</th>\n",
       "    </tr>\n",
       "  </thead>\n",
       "  <tbody>\n",
       "    <tr>\n",
       "      <th>Cough_symptoms_True</th>\n",
       "      <td>NaN</td>\n",
       "      <td>NaN</td>\n",
       "      <td>NaN</td>\n",
       "      <td>NaN</td>\n",
       "      <td>NaN</td>\n",
       "      <td>NaN</td>\n",
       "      <td>NaN</td>\n",
       "    </tr>\n",
       "    <tr>\n",
       "      <th>Fever_True</th>\n",
       "      <td>NaN</td>\n",
       "      <td>NaN</td>\n",
       "      <td>NaN</td>\n",
       "      <td>NaN</td>\n",
       "      <td>NaN</td>\n",
       "      <td>NaN</td>\n",
       "      <td>NaN</td>\n",
       "    </tr>\n",
       "    <tr>\n",
       "      <th>Sore_throat_True</th>\n",
       "      <td>NaN</td>\n",
       "      <td>NaN</td>\n",
       "      <td>NaN</td>\n",
       "      <td>NaN</td>\n",
       "      <td>NaN</td>\n",
       "      <td>NaN</td>\n",
       "      <td>NaN</td>\n",
       "    </tr>\n",
       "    <tr>\n",
       "      <th>Shortness_of_breath_True</th>\n",
       "      <td>NaN</td>\n",
       "      <td>NaN</td>\n",
       "      <td>NaN</td>\n",
       "      <td>NaN</td>\n",
       "      <td>NaN</td>\n",
       "      <td>NaN</td>\n",
       "      <td>NaN</td>\n",
       "    </tr>\n",
       "    <tr>\n",
       "      <th>Headache_True</th>\n",
       "      <td>NaN</td>\n",
       "      <td>NaN</td>\n",
       "      <td>NaN</td>\n",
       "      <td>NaN</td>\n",
       "      <td>NaN</td>\n",
       "      <td>NaN</td>\n",
       "      <td>NaN</td>\n",
       "    </tr>\n",
       "    <tr>\n",
       "      <th>Known_contact_Contact with confirmed</th>\n",
       "      <td>NaN</td>\n",
       "      <td>NaN</td>\n",
       "      <td>NaN</td>\n",
       "      <td>NaN</td>\n",
       "      <td>NaN</td>\n",
       "      <td>NaN</td>\n",
       "      <td>NaN</td>\n",
       "    </tr>\n",
       "    <tr>\n",
       "      <th>Known_contact_Other</th>\n",
       "      <td>NaN</td>\n",
       "      <td>NaN</td>\n",
       "      <td>NaN</td>\n",
       "      <td>NaN</td>\n",
       "      <td>NaN</td>\n",
       "      <td>NaN</td>\n",
       "      <td>NaN</td>\n",
       "    </tr>\n",
       "  </tbody>\n",
       "</table>\n",
       "</div>"
      ],
      "text/plain": [
       "                                      Cough_symptoms_True  Fever_True  \\\n",
       "Cough_symptoms_True                                   NaN         NaN   \n",
       "Fever_True                                            NaN         NaN   \n",
       "Sore_throat_True                                      NaN         NaN   \n",
       "Shortness_of_breath_True                              NaN         NaN   \n",
       "Headache_True                                         NaN         NaN   \n",
       "Known_contact_Contact with confirmed                  NaN         NaN   \n",
       "Known_contact_Other                                   NaN         NaN   \n",
       "\n",
       "                                      Sore_throat_True  \\\n",
       "Cough_symptoms_True                                NaN   \n",
       "Fever_True                                         NaN   \n",
       "Sore_throat_True                                   NaN   \n",
       "Shortness_of_breath_True                           NaN   \n",
       "Headache_True                                      NaN   \n",
       "Known_contact_Contact with confirmed               NaN   \n",
       "Known_contact_Other                                NaN   \n",
       "\n",
       "                                      Shortness_of_breath_True  Headache_True  \\\n",
       "Cough_symptoms_True                                        NaN            NaN   \n",
       "Fever_True                                                 NaN            NaN   \n",
       "Sore_throat_True                                           NaN            NaN   \n",
       "Shortness_of_breath_True                                   NaN            NaN   \n",
       "Headache_True                                              NaN            NaN   \n",
       "Known_contact_Contact with confirmed                       NaN            NaN   \n",
       "Known_contact_Other                                        NaN            NaN   \n",
       "\n",
       "                                      Known_contact_Contact with confirmed  \\\n",
       "Cough_symptoms_True                                                    NaN   \n",
       "Fever_True                                                             NaN   \n",
       "Sore_throat_True                                                       NaN   \n",
       "Shortness_of_breath_True                                               NaN   \n",
       "Headache_True                                                          NaN   \n",
       "Known_contact_Contact with confirmed                                   NaN   \n",
       "Known_contact_Other                                                    NaN   \n",
       "\n",
       "                                      Known_contact_Other  \n",
       "Cough_symptoms_True                                   NaN  \n",
       "Fever_True                                            NaN  \n",
       "Sore_throat_True                                      NaN  \n",
       "Shortness_of_breath_True                              NaN  \n",
       "Headache_True                                         NaN  \n",
       "Known_contact_Contact with confirmed                  NaN  \n",
       "Known_contact_Other                                   NaN  "
      ]
     },
     "execution_count": 48,
     "metadata": {},
     "output_type": "execute_result"
    }
   ],
   "source": [
    "resultant[resultant>0.05]"
   ]
  },
  {
   "cell_type": "code",
   "execution_count": 49,
   "id": "7a0ce588",
   "metadata": {},
   "outputs": [
    {
     "data": {
      "image/png": "[encoded data removed]",
      "text/plain": [
       "<Figure size 720x720 with 2 Axes>"
      ]
     },
     "metadata": {
      "needs_background": "light"
     },
     "output_type": "display_data"
    }
   ],
   "source": [
    "fig = plt.figure(figsize=(10,10))\n",
    "sns.heatmap(resultant, annot=True, cmap='Blues')\n",
    "plt.title('Chi-Square Test Results')\n",
    "plt.show()"
   ]
  },
  {
   "cell_type": "markdown",
   "id": "9eda6a30",
   "metadata": {},
   "source": [
    "we see that every variables are highly correlated lets perform feature extraction."
   ]
  },
  {
   "cell_type": "code",
   "execution_count": 50,
   "id": "399f4a95",
   "metadata": {},
   "outputs": [],
   "source": [
    "from sklearn.decomposition import PCA\n",
    "pca = PCA(n_components = 3)\n",
    "  \n",
    "X= pca.fit_transform(X)\n",
    "  \n",
    "explained_variance = pca.explained_variance_ratio_"
   ]
  },
  {
   "cell_type": "code",
   "execution_count": 51,
   "id": "73e4411d",
   "metadata": {},
   "outputs": [
    {
     "data": {
      "text/plain": [
       "array([[ 1.07725714,  0.17064478, -0.47695053],\n",
       "       [ 1.07725714,  0.17064478, -0.47695053],\n",
       "       [ 0.81900055, -0.88272871,  0.33359387],\n",
       "       ...,\n",
       "       [-0.21774439,  0.0056692 ,  0.00159768],\n",
       "       [-0.21774439,  0.0056692 ,  0.00159768],\n",
       "       [-0.21774439,  0.0056692 ,  0.00159768]])"
      ]
     },
     "execution_count": 51,
     "metadata": {},
     "output_type": "execute_result"
    }
   ],
   "source": [
    "X"
   ]
  },
  {
   "cell_type": "code",
   "execution_count": null,
   "id": "d5357278",
   "metadata": {},
   "outputs": [],
   "source": []
  },
  {
   "cell_type": "code",
   "execution_count": 52,
   "id": "aed482e2",
   "metadata": {},
   "outputs": [],
   "source": [
    "#X=pd.DataFrame(data=X,columns=['pc1','pc2','pc3'])"
   ]
  },
  {
   "cell_type": "code",
   "execution_count": 53,
   "id": "f17b7822",
   "metadata": {},
   "outputs": [
    {
     "data": {
      "text/plain": [
       "array([[ 1.07725714,  0.17064478, -0.47695053],\n",
       "       [ 1.07725714,  0.17064478, -0.47695053],\n",
       "       [ 0.81900055, -0.88272871,  0.33359387],\n",
       "       ...,\n",
       "       [-0.21774439,  0.0056692 ,  0.00159768],\n",
       "       [-0.21774439,  0.0056692 ,  0.00159768],\n",
       "       [-0.21774439,  0.0056692 ,  0.00159768]])"
      ]
     },
     "execution_count": 53,
     "metadata": {},
     "output_type": "execute_result"
    }
   ],
   "source": [
    "X"
   ]
  },
  {
   "cell_type": "code",
   "execution_count": 54,
   "id": "21ceee50",
   "metadata": {},
   "outputs": [],
   "source": [
    "from sklearn.preprocessing import MinMaxScaler\n",
    "sc = MinMaxScaler()\n"
   ]
  },
  {
   "cell_type": "code",
   "execution_count": 55,
   "id": "5c24d75c",
   "metadata": {},
   "outputs": [],
   "source": [
    "### random state train test split will be same with all people using random_state=16\n",
    "from sklearn.model_selection import train_test_split  \n",
    "X_train, X_test, y_train, y_test = train_test_split(X, y, test_size=0.30, random_state=16)\n",
    "#feature scaling\n",
    "from sklearn.preprocessing import MinMaxScaler\n",
    "scaler = MinMaxScaler()\n",
    "\n"
   ]
  },
  {
   "cell_type": "code",
   "execution_count": 56,
   "id": "8a9d1887",
   "metadata": {},
   "outputs": [
    {
     "data": {
      "text/plain": [
       "array([[4.16333634e-17, 4.45861462e-01, 3.07728747e-01],\n",
       "       [7.73816458e-01, 7.39948540e-01, 1.17845784e-01],\n",
       "       [4.16333634e-17, 4.45861462e-01, 3.07728747e-01],\n",
       "       ...,\n",
       "       [4.16333634e-17, 4.45861462e-01, 3.07728747e-01],\n",
       "       [4.16333634e-17, 4.45861462e-01, 3.07728747e-01],\n",
       "       [6.79718548e-01, 5.28657980e-01, 1.86301573e-02]])"
      ]
     },
     "execution_count": 56,
     "metadata": {},
     "output_type": "execute_result"
    }
   ],
   "source": [
    "### using fit_transform to Standardize the train data\n",
    "X_train=scaler.fit_transform(X_train)\n",
    "X_train\n",
    "X_test=scaler.transform(X_test)\n",
    "X_test\n",
    "#X_train=pd.DataFrame(data=X_train,columns=['pc1','pc2','pc3'])\n",
    "#X_test=pd.DataFrame(data=X_test,columns=['pc1','pc2','pc3'])\n",
    "\n",
    "\n"
   ]
  },
  {
   "cell_type": "code",
   "execution_count": 57,
   "id": "47388538",
   "metadata": {},
   "outputs": [
    {
     "data": {
      "text/plain": [
       "KNeighborsClassifier()"
      ]
     },
     "execution_count": 57,
     "metadata": {},
     "output_type": "execute_result"
    }
   ],
   "source": [
    "from sklearn.neighbors import KNeighborsClassifier  \n",
    "classifier= KNeighborsClassifier(n_neighbors=5, metric='minkowski', p=2 )  \n",
    "classifier.fit(X_train, y_train) "
   ]
  },
  {
   "cell_type": "code",
   "execution_count": 58,
   "id": "8b5e393e",
   "metadata": {},
   "outputs": [],
   "source": [
    "#Predicting the test set result  \n",
    "y_pred= classifier.predict(X_test)  "
   ]
  },
  {
   "cell_type": "code",
   "execution_count": 59,
   "id": "56b83ae3",
   "metadata": {},
   "outputs": [
    {
     "data": {
      "text/plain": [
       "array([0, 1, 0, ..., 0, 0, 0], dtype=int64)"
      ]
     },
     "execution_count": 59,
     "metadata": {},
     "output_type": "execute_result"
    }
   ],
   "source": [
    "y_pred"
   ]
  },
  {
   "cell_type": "code",
   "execution_count": 60,
   "id": "23215114",
   "metadata": {},
   "outputs": [],
   "source": [
    "#Creating the Confusion matrix  , accuracy score and classification report.\n",
    "from sklearn.metrics import confusion_matrix,classification_report,accuracy_score,precision_score,f1_score"
   ]
  },
  {
   "cell_type": "code",
   "execution_count": 61,
   "id": "39e2e17c",
   "metadata": {},
   "outputs": [
    {
     "name": "stdout",
     "output_type": "stream",
     "text": [
      "[[70254  2322]\n",
      " [ 1282  2843]]\n",
      "0.9530123466447634\n"
     ]
    }
   ],
   "source": [
    "cm= confusion_matrix(y_test, y_pred) \n",
    "print(cm)\n",
    "score=accuracy_score(y_test, y_pred)\n",
    "print(score)"
   ]
  },
  {
   "cell_type": "code",
   "execution_count": 62,
   "id": "de6422e7",
   "metadata": {},
   "outputs": [
    {
     "data": {
      "text/plain": [
       "0.6120559741657695"
      ]
     },
     "execution_count": 62,
     "metadata": {},
     "output_type": "execute_result"
    }
   ],
   "source": [
    "f1_score(y_test,y_pred)"
   ]
  },
  {
   "cell_type": "code",
   "execution_count": 63,
   "id": "c5f29f20",
   "metadata": {},
   "outputs": [
    {
     "data": {
      "text/plain": [
       "216173    0\n",
       "108265    0\n",
       "197938    0\n",
       "68406     0\n",
       "127867    0\n",
       "         ..\n",
       "129456    0\n",
       "116985    0\n",
       "227269    1\n",
       "223796    0\n",
       "124547    0\n",
       "Name: Corona, Length: 76701, dtype: int64"
      ]
     },
     "execution_count": 63,
     "metadata": {},
     "output_type": "execute_result"
    }
   ],
   "source": [
    "y_test"
   ]
  },
  {
   "cell_type": "code",
   "execution_count": 64,
   "id": "09ac62d7",
   "metadata": {},
   "outputs": [
    {
     "data": {
      "text/plain": [
       "array([[4.16333634e-17, 4.45861462e-01, 3.07728747e-01],\n",
       "       [3.58946032e-01, 2.01826840e-01, 0.00000000e+00],\n",
       "       [4.16333634e-17, 4.45861462e-01, 3.07728747e-01],\n",
       "       ...,\n",
       "       [6.79718548e-01, 5.28657980e-01, 1.86301573e-02],\n",
       "       [6.79718548e-01, 5.28657980e-01, 1.86301573e-02],\n",
       "       [6.79718548e-01, 5.28657980e-01, 1.86301573e-02]])"
      ]
     },
     "execution_count": 64,
     "metadata": {},
     "output_type": "execute_result"
    }
   ],
   "source": [
    "X_train"
   ]
  },
  {
   "cell_type": "code",
   "execution_count": 66,
   "id": "0d9307d0",
   "metadata": {},
   "outputs": [
    {
     "data": {
      "text/html": [
       "<div>\n",
       "<style scoped>\n",
       "    .dataframe tbody tr th:only-of-type {\n",
       "        vertical-align: middle;\n",
       "    }\n",
       "\n",
       "    .dataframe tbody tr th {\n",
       "        vertical-align: top;\n",
       "    }\n",
       "\n",
       "    .dataframe thead th {\n",
       "        text-align: right;\n",
       "    }\n",
       "</style>\n",
       "<table border=\"1\" class=\"dataframe\">\n",
       "  <thead>\n",
       "    <tr style=\"text-align: right;\">\n",
       "      <th></th>\n",
       "      <th>model</th>\n",
       "      <th>best_score</th>\n",
       "      <th>best_params</th>\n",
       "    </tr>\n",
       "  </thead>\n",
       "  <tbody>\n",
       "    <tr>\n",
       "      <th>0</th>\n",
       "      <td>Knearest</td>\n",
       "      <td>0.968224</td>\n",
       "      <td>{'n_neighbors': 7}</td>\n",
       "    </tr>\n",
       "    <tr>\n",
       "      <th>1</th>\n",
       "      <td>randomforest</td>\n",
       "      <td>0.969654</td>\n",
       "      <td>{'n_estimators': 100}</td>\n",
       "    </tr>\n",
       "    <tr>\n",
       "      <th>2</th>\n",
       "      <td>decision_tree</td>\n",
       "      <td>0.969604</td>\n",
       "      <td>{'criterion': 'entropy'}</td>\n",
       "    </tr>\n",
       "  </tbody>\n",
       "</table>\n",
       "</div>"
      ],
      "text/plain": [
       "           model  best_score               best_params\n",
       "0       Knearest    0.968224        {'n_neighbors': 7}\n",
       "1   randomforest    0.969654     {'n_estimators': 100}\n",
       "2  decision_tree    0.969604  {'criterion': 'entropy'}"
      ]
     },
     "execution_count": 66,
     "metadata": {},
     "output_type": "execute_result"
    }
   ],
   "source": [
    "from sklearn.model_selection import GridSearchCV\n",
    "from sklearn.model_selection import ShuffleSplit\n",
    "from sklearn.model_selection import cross_val_score\n",
    "from sklearn.ensemble import RandomForestClassifier\n",
    "  \n",
    "from sklearn.linear_model import Lasso\n",
    "from sklearn.tree import DecisionTreeClassifier\n",
    "\n",
    "def find_best_model_using_gridsearchcv(X,y):\n",
    "    algos = {\n",
    "        'Knearest':{\n",
    "            'model':KNeighborsClassifier(),\n",
    "            'params':{'n_neighbors':[5,7,3] \n",
    "                \n",
    "            }\n",
    "        },\n",
    "        \n",
    "        'randomforest': {\n",
    "            'model': RandomForestClassifier(),\n",
    "            'params': {\n",
    "                'n_estimators':[100,200]}\n",
    "        },\n",
    "        'decision_tree': {\n",
    "            'model': DecisionTreeClassifier(),\n",
    "            'params': {\n",
    "                'criterion': ['entropy', 'gini']}\n",
    "        \n",
    "    }}\n",
    "    scores = []\n",
    "    cv = ShuffleSplit(n_splits=5, test_size=0.2, random_state=0)\n",
    "    for algo_name, config in algos.items():\n",
    "        gs =  GridSearchCV(config['model'], config['params'], cv=cv, return_train_score=False)\n",
    "        gs.fit(X,y)\n",
    "        scores.append({\n",
    "            'model': algo_name,\n",
    "            'best_score': gs.best_score_,\n",
    "            'best_params': gs.best_params_\n",
    "        })\n",
    "\n",
    "    return pd.DataFrame(scores,columns=['model','best_score','best_params'])\n",
    "\n",
    "find_best_model_using_gridsearchcv(X_train,y_train)\n"
   ]
  },
  {
   "cell_type": "code",
   "execution_count": null,
   "id": "25616483",
   "metadata": {},
   "outputs": [],
   "source": []
  },
  {
   "cell_type": "code",
   "execution_count": null,
   "id": "41359a65",
   "metadata": {},
   "outputs": [],
   "source": []
  },
  {
   "cell_type": "code",
   "execution_count": null,
   "id": "a272c216",
   "metadata": {},
   "outputs": [],
   "source": []
  }
 ],
 "metadata": {
  "kernelspec": {
   "display_name": "Python 3 (ipykernel)",
   "language": "python",
   "name": "python3"
  },
  "language_info": {
   "codemirror_mode": {
    "name": "ipython",
    "version": 3
   },
   "file_extension": ".py",
   "mimetype": "text/x-python",
   "name": "python",
   "nbconvert_exporter": "python",
   "pygments_lexer": "ipython3",
   "version": "3.9.12"
  }
 },
 "nbformat": 4,
 "nbformat_minor": 5
}
