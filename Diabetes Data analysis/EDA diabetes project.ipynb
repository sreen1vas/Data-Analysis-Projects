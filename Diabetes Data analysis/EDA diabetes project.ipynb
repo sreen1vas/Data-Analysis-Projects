{
 "cells": [
  {
   "cell_type": "markdown",
   "id": "8727af2d",
   "metadata": {},
   "source": [
    "In this project we are given with a raw data containing certain features on determining whether the dependent variable is diabetic or non-diabetic based of the previous research\n",
    "lets perform EDA and essential feature engineering in identifing the important features."
   ]
  },
  {
   "cell_type": "code",
   "execution_count": 1,
   "id": "181c8d24",
   "metadata": {},
   "outputs": [],
   "source": [
    "import pandas as pd\n",
    "import numpy as np \n",
    "import matplotlib.pyplot as plt\n",
    "import seaborn as sns \n",
    "import missingno as msno \n"
   ]
  },
  {
   "cell_type": "code",
   "execution_count": 3,
   "id": "11a5308b",
   "metadata": {},
   "outputs": [],
   "source": [
    "Diabetes=pd.read_excel('Downloads/pima-indians-diabetes (2).xlsx',header=None)\n",
    "df=Diabetes.copy()"
   ]
  },
  {
   "cell_type": "markdown",
   "id": "8d67a1d3",
   "metadata": {},
   "source": [
    "creating a copy of the data set header as none so that it dosent consider first row as header"
   ]
  },
  {
   "cell_type": "code",
   "execution_count": 4,
   "id": "1cb1a5b6",
   "metadata": {},
   "outputs": [
    {
     "data": {
      "text/html": [
       "<div>\n",
       "<style scoped>\n",
       "    .dataframe tbody tr th:only-of-type {\n",
       "        vertical-align: middle;\n",
       "    }\n",
       "\n",
       "    .dataframe tbody tr th {\n",
       "        vertical-align: top;\n",
       "    }\n",
       "\n",
       "    .dataframe thead th {\n",
       "        text-align: right;\n",
       "    }\n",
       "</style>\n",
       "<table border=\"1\" class=\"dataframe\">\n",
       "  <thead>\n",
       "    <tr style=\"text-align: right;\">\n",
       "      <th></th>\n",
       "      <th>0</th>\n",
       "      <th>1</th>\n",
       "      <th>2</th>\n",
       "      <th>3</th>\n",
       "      <th>4</th>\n",
       "      <th>5</th>\n",
       "      <th>6</th>\n",
       "      <th>7</th>\n",
       "      <th>8</th>\n",
       "    </tr>\n",
       "  </thead>\n",
       "  <tbody>\n",
       "    <tr>\n",
       "      <th>0</th>\n",
       "      <td>6.0</td>\n",
       "      <td>148.0</td>\n",
       "      <td>72.0</td>\n",
       "      <td>35.0</td>\n",
       "      <td>0.0</td>\n",
       "      <td>33.6</td>\n",
       "      <td>0.627</td>\n",
       "      <td>50.0</td>\n",
       "      <td>1.0</td>\n",
       "    </tr>\n",
       "    <tr>\n",
       "      <th>1</th>\n",
       "      <td>1.0</td>\n",
       "      <td>85.0</td>\n",
       "      <td>66.0</td>\n",
       "      <td>29.0</td>\n",
       "      <td>0.0</td>\n",
       "      <td>26.6</td>\n",
       "      <td>0.351</td>\n",
       "      <td>31.0</td>\n",
       "      <td>0.0</td>\n",
       "    </tr>\n",
       "    <tr>\n",
       "      <th>2</th>\n",
       "      <td>8.0</td>\n",
       "      <td>183.0</td>\n",
       "      <td>64.0</td>\n",
       "      <td>0.0</td>\n",
       "      <td>0.0</td>\n",
       "      <td>23.3</td>\n",
       "      <td>0.672</td>\n",
       "      <td>32.0</td>\n",
       "      <td>1.0</td>\n",
       "    </tr>\n",
       "    <tr>\n",
       "      <th>3</th>\n",
       "      <td>1.0</td>\n",
       "      <td>89.0</td>\n",
       "      <td>66.0</td>\n",
       "      <td>23.0</td>\n",
       "      <td>94.0</td>\n",
       "      <td>28.1</td>\n",
       "      <td>0.167</td>\n",
       "      <td>21.0</td>\n",
       "      <td>0.0</td>\n",
       "    </tr>\n",
       "    <tr>\n",
       "      <th>4</th>\n",
       "      <td>0.0</td>\n",
       "      <td>137.0</td>\n",
       "      <td>40.0</td>\n",
       "      <td>35.0</td>\n",
       "      <td>168.0</td>\n",
       "      <td>43.1</td>\n",
       "      <td>2.288</td>\n",
       "      <td>33.0</td>\n",
       "      <td>1.0</td>\n",
       "    </tr>\n",
       "  </tbody>\n",
       "</table>\n",
       "</div>"
      ],
      "text/plain": [
       "     0      1     2     3      4     5      6     7    8\n",
       "0  6.0  148.0  72.0  35.0    0.0  33.6  0.627  50.0  1.0\n",
       "1  1.0   85.0  66.0  29.0    0.0  26.6  0.351  31.0  0.0\n",
       "2  8.0  183.0  64.0   0.0    0.0  23.3  0.672  32.0  1.0\n",
       "3  1.0   89.0  66.0  23.0   94.0  28.1  0.167  21.0  0.0\n",
       "4  0.0  137.0  40.0  35.0  168.0  43.1  2.288  33.0  1.0"
      ]
     },
     "execution_count": 4,
     "metadata": {},
     "output_type": "execute_result"
    }
   ],
   "source": [
    "df.head()"
   ]
  },
  {
   "cell_type": "markdown",
   "id": "797751df",
   "metadata": {},
   "source": [
    "Lets name the features from the provided information."
   ]
  },
  {
   "cell_type": "code",
   "execution_count": 5,
   "id": "a99566f9",
   "metadata": {},
   "outputs": [],
   "source": [
    "df.columns=[' Pregnancies','Glucose','Blood Pressure','Skin Thickness','Insulin','BMI','Diabetes Pedigree Function','AGE','Target']"
   ]
  },
  {
   "cell_type": "code",
   "execution_count": 6,
   "id": "840a7b59",
   "metadata": {},
   "outputs": [
    {
     "data": {
      "text/html": [
       "<div>\n",
       "<style scoped>\n",
       "    .dataframe tbody tr th:only-of-type {\n",
       "        vertical-align: middle;\n",
       "    }\n",
       "\n",
       "    .dataframe tbody tr th {\n",
       "        vertical-align: top;\n",
       "    }\n",
       "\n",
       "    .dataframe thead th {\n",
       "        text-align: right;\n",
       "    }\n",
       "</style>\n",
       "<table border=\"1\" class=\"dataframe\">\n",
       "  <thead>\n",
       "    <tr style=\"text-align: right;\">\n",
       "      <th></th>\n",
       "      <th>Pregnancies</th>\n",
       "      <th>Glucose</th>\n",
       "      <th>Blood Pressure</th>\n",
       "      <th>Skin Thickness</th>\n",
       "      <th>Insulin</th>\n",
       "      <th>BMI</th>\n",
       "      <th>Diabetes Pedigree Function</th>\n",
       "      <th>AGE</th>\n",
       "      <th>Target</th>\n",
       "    </tr>\n",
       "  </thead>\n",
       "  <tbody>\n",
       "    <tr>\n",
       "      <th>0</th>\n",
       "      <td>6.0</td>\n",
       "      <td>148.0</td>\n",
       "      <td>72.0</td>\n",
       "      <td>35.0</td>\n",
       "      <td>0.0</td>\n",
       "      <td>33.6</td>\n",
       "      <td>0.627</td>\n",
       "      <td>50.0</td>\n",
       "      <td>1.0</td>\n",
       "    </tr>\n",
       "    <tr>\n",
       "      <th>1</th>\n",
       "      <td>1.0</td>\n",
       "      <td>85.0</td>\n",
       "      <td>66.0</td>\n",
       "      <td>29.0</td>\n",
       "      <td>0.0</td>\n",
       "      <td>26.6</td>\n",
       "      <td>0.351</td>\n",
       "      <td>31.0</td>\n",
       "      <td>0.0</td>\n",
       "    </tr>\n",
       "    <tr>\n",
       "      <th>2</th>\n",
       "      <td>8.0</td>\n",
       "      <td>183.0</td>\n",
       "      <td>64.0</td>\n",
       "      <td>0.0</td>\n",
       "      <td>0.0</td>\n",
       "      <td>23.3</td>\n",
       "      <td>0.672</td>\n",
       "      <td>32.0</td>\n",
       "      <td>1.0</td>\n",
       "    </tr>\n",
       "    <tr>\n",
       "      <th>3</th>\n",
       "      <td>1.0</td>\n",
       "      <td>89.0</td>\n",
       "      <td>66.0</td>\n",
       "      <td>23.0</td>\n",
       "      <td>94.0</td>\n",
       "      <td>28.1</td>\n",
       "      <td>0.167</td>\n",
       "      <td>21.0</td>\n",
       "      <td>0.0</td>\n",
       "    </tr>\n",
       "    <tr>\n",
       "      <th>4</th>\n",
       "      <td>0.0</td>\n",
       "      <td>137.0</td>\n",
       "      <td>40.0</td>\n",
       "      <td>35.0</td>\n",
       "      <td>168.0</td>\n",
       "      <td>43.1</td>\n",
       "      <td>2.288</td>\n",
       "      <td>33.0</td>\n",
       "      <td>1.0</td>\n",
       "    </tr>\n",
       "  </tbody>\n",
       "</table>\n",
       "</div>"
      ],
      "text/plain": [
       "    Pregnancies  Glucose  Blood Pressure  Skin Thickness  Insulin   BMI  \\\n",
       "0           6.0    148.0            72.0            35.0      0.0  33.6   \n",
       "1           1.0     85.0            66.0            29.0      0.0  26.6   \n",
       "2           8.0    183.0            64.0             0.0      0.0  23.3   \n",
       "3           1.0     89.0            66.0            23.0     94.0  28.1   \n",
       "4           0.0    137.0            40.0            35.0    168.0  43.1   \n",
       "\n",
       "   Diabetes Pedigree Function   AGE  Target  \n",
       "0                       0.627  50.0     1.0  \n",
       "1                       0.351  31.0     0.0  \n",
       "2                       0.672  32.0     1.0  \n",
       "3                       0.167  21.0     0.0  \n",
       "4                       2.288  33.0     1.0  "
      ]
     },
     "execution_count": 6,
     "metadata": {},
     "output_type": "execute_result"
    }
   ],
   "source": [
    "df.head()"
   ]
  },
  {
   "cell_type": "markdown",
   "id": "7511ce23",
   "metadata": {},
   "source": [
    "To get a basic understanding of what the data tells us lets do some simple analysis."
   ]
  },
  {
   "cell_type": "code",
   "execution_count": 7,
   "id": "0389ceca",
   "metadata": {},
   "outputs": [
    {
     "data": {
      "text/plain": [
       "(768, 9)"
      ]
     },
     "execution_count": 7,
     "metadata": {},
     "output_type": "execute_result"
    }
   ],
   "source": [
    "df.shape"
   ]
  },
  {
   "cell_type": "code",
   "execution_count": 8,
   "id": "75b1361c",
   "metadata": {},
   "outputs": [
    {
     "data": {
      "text/html": [
       "<div>\n",
       "<style scoped>\n",
       "    .dataframe tbody tr th:only-of-type {\n",
       "        vertical-align: middle;\n",
       "    }\n",
       "\n",
       "    .dataframe tbody tr th {\n",
       "        vertical-align: top;\n",
       "    }\n",
       "\n",
       "    .dataframe thead th {\n",
       "        text-align: right;\n",
       "    }\n",
       "</style>\n",
       "<table border=\"1\" class=\"dataframe\">\n",
       "  <thead>\n",
       "    <tr style=\"text-align: right;\">\n",
       "      <th></th>\n",
       "      <th>Pregnancies</th>\n",
       "      <th>Glucose</th>\n",
       "      <th>Blood Pressure</th>\n",
       "      <th>Skin Thickness</th>\n",
       "      <th>Insulin</th>\n",
       "      <th>BMI</th>\n",
       "      <th>Diabetes Pedigree Function</th>\n",
       "      <th>AGE</th>\n",
       "      <th>Target</th>\n",
       "    </tr>\n",
       "  </thead>\n",
       "  <tbody>\n",
       "    <tr>\n",
       "      <th>count</th>\n",
       "      <td>768.000000</td>\n",
       "      <td>768.000000</td>\n",
       "      <td>768.000000</td>\n",
       "      <td>768.000000</td>\n",
       "      <td>768.000000</td>\n",
       "      <td>768.000000</td>\n",
       "      <td>768.000000</td>\n",
       "      <td>768.000000</td>\n",
       "      <td>768.000000</td>\n",
       "    </tr>\n",
       "    <tr>\n",
       "      <th>mean</th>\n",
       "      <td>3.845052</td>\n",
       "      <td>120.894531</td>\n",
       "      <td>69.105469</td>\n",
       "      <td>20.536458</td>\n",
       "      <td>79.799479</td>\n",
       "      <td>31.992578</td>\n",
       "      <td>0.471876</td>\n",
       "      <td>33.240885</td>\n",
       "      <td>0.348958</td>\n",
       "    </tr>\n",
       "    <tr>\n",
       "      <th>std</th>\n",
       "      <td>3.369578</td>\n",
       "      <td>31.972618</td>\n",
       "      <td>19.355807</td>\n",
       "      <td>15.952218</td>\n",
       "      <td>115.244002</td>\n",
       "      <td>7.884160</td>\n",
       "      <td>0.331329</td>\n",
       "      <td>11.760232</td>\n",
       "      <td>0.476951</td>\n",
       "    </tr>\n",
       "    <tr>\n",
       "      <th>min</th>\n",
       "      <td>0.000000</td>\n",
       "      <td>0.000000</td>\n",
       "      <td>0.000000</td>\n",
       "      <td>0.000000</td>\n",
       "      <td>0.000000</td>\n",
       "      <td>0.000000</td>\n",
       "      <td>0.078000</td>\n",
       "      <td>21.000000</td>\n",
       "      <td>0.000000</td>\n",
       "    </tr>\n",
       "    <tr>\n",
       "      <th>25%</th>\n",
       "      <td>1.000000</td>\n",
       "      <td>99.000000</td>\n",
       "      <td>62.000000</td>\n",
       "      <td>0.000000</td>\n",
       "      <td>0.000000</td>\n",
       "      <td>27.300000</td>\n",
       "      <td>0.243750</td>\n",
       "      <td>24.000000</td>\n",
       "      <td>0.000000</td>\n",
       "    </tr>\n",
       "    <tr>\n",
       "      <th>50%</th>\n",
       "      <td>3.000000</td>\n",
       "      <td>117.000000</td>\n",
       "      <td>72.000000</td>\n",
       "      <td>23.000000</td>\n",
       "      <td>30.500000</td>\n",
       "      <td>32.000000</td>\n",
       "      <td>0.372500</td>\n",
       "      <td>29.000000</td>\n",
       "      <td>0.000000</td>\n",
       "    </tr>\n",
       "    <tr>\n",
       "      <th>75%</th>\n",
       "      <td>6.000000</td>\n",
       "      <td>140.250000</td>\n",
       "      <td>80.000000</td>\n",
       "      <td>32.000000</td>\n",
       "      <td>127.250000</td>\n",
       "      <td>36.600000</td>\n",
       "      <td>0.626250</td>\n",
       "      <td>41.000000</td>\n",
       "      <td>1.000000</td>\n",
       "    </tr>\n",
       "    <tr>\n",
       "      <th>max</th>\n",
       "      <td>17.000000</td>\n",
       "      <td>199.000000</td>\n",
       "      <td>122.000000</td>\n",
       "      <td>99.000000</td>\n",
       "      <td>846.000000</td>\n",
       "      <td>67.100000</td>\n",
       "      <td>2.420000</td>\n",
       "      <td>81.000000</td>\n",
       "      <td>1.000000</td>\n",
       "    </tr>\n",
       "  </tbody>\n",
       "</table>\n",
       "</div>"
      ],
      "text/plain": [
       "        Pregnancies     Glucose  Blood Pressure  Skin Thickness     Insulin  \\\n",
       "count    768.000000  768.000000      768.000000      768.000000  768.000000   \n",
       "mean       3.845052  120.894531       69.105469       20.536458   79.799479   \n",
       "std        3.369578   31.972618       19.355807       15.952218  115.244002   \n",
       "min        0.000000    0.000000        0.000000        0.000000    0.000000   \n",
       "25%        1.000000   99.000000       62.000000        0.000000    0.000000   \n",
       "50%        3.000000  117.000000       72.000000       23.000000   30.500000   \n",
       "75%        6.000000  140.250000       80.000000       32.000000  127.250000   \n",
       "max       17.000000  199.000000      122.000000       99.000000  846.000000   \n",
       "\n",
       "              BMI  Diabetes Pedigree Function         AGE      Target  \n",
       "count  768.000000                  768.000000  768.000000  768.000000  \n",
       "mean    31.992578                    0.471876   33.240885    0.348958  \n",
       "std      7.884160                    0.331329   11.760232    0.476951  \n",
       "min      0.000000                    0.078000   21.000000    0.000000  \n",
       "25%     27.300000                    0.243750   24.000000    0.000000  \n",
       "50%     32.000000                    0.372500   29.000000    0.000000  \n",
       "75%     36.600000                    0.626250   41.000000    1.000000  \n",
       "max     67.100000                    2.420000   81.000000    1.000000  "
      ]
     },
     "execution_count": 8,
     "metadata": {},
     "output_type": "execute_result"
    }
   ],
   "source": [
    "df.describe()"
   ]
  },
  {
   "cell_type": "code",
   "execution_count": 9,
   "id": "310d8e68",
   "metadata": {},
   "outputs": [
    {
     "data": {
      "text/plain": [
       " Pregnancies                  float64\n",
       "Glucose                       float64\n",
       "Blood Pressure                float64\n",
       "Skin Thickness                float64\n",
       "Insulin                       float64\n",
       "BMI                           float64\n",
       "Diabetes Pedigree Function    float64\n",
       "AGE                           float64\n",
       "Target                        float64\n",
       "dtype: object"
      ]
     },
     "execution_count": 9,
     "metadata": {},
     "output_type": "execute_result"
    }
   ],
   "source": [
    "df.dtypes"
   ]
  },
  {
   "cell_type": "code",
   "execution_count": 10,
   "id": "697830d3",
   "metadata": {},
   "outputs": [
    {
     "data": {
      "text/plain": [
       " Pregnancies                  0\n",
       "Glucose                       0\n",
       "Blood Pressure                0\n",
       "Skin Thickness                0\n",
       "Insulin                       0\n",
       "BMI                           0\n",
       "Diabetes Pedigree Function    0\n",
       "AGE                           0\n",
       "Target                        0\n",
       "dtype: int64"
      ]
     },
     "execution_count": 10,
     "metadata": {},
     "output_type": "execute_result"
    }
   ],
   "source": [
    "df.isnull().sum()"
   ]
  },
  {
   "cell_type": "markdown",
   "id": "e8148e7e",
   "metadata": {},
   "source": [
    "The data consist of 8 features and 768 records.we can see that all features are numerical ,some features like Glucose,Blood Pressure,Skin Thickness,Insulin,BMI has 0 values which is not possible so lets consider it as missing data ."
   ]
  },
  {
   "cell_type": "code",
   "execution_count": 11,
   "id": "be4a7ff6",
   "metadata": {},
   "outputs": [],
   "source": [
    "df1=df.copy()\n",
    "df1['Glucose'].replace(0,np.nan,inplace=True)\n",
    "df1['Skin Thickness'].replace(0,np.nan,inplace=True)\n",
    "df1['Insulin'].replace(0,np.nan,inplace=True)\n",
    "df1['BMI'].replace(0,np.nan,inplace=True)\n",
    "df1['Blood Pressure'].replace(0,np.nan,inplace=True)\n",
    "\n"
   ]
  },
  {
   "cell_type": "markdown",
   "id": "123aab95",
   "metadata": {},
   "source": [
    "Converting 0 to null values."
   ]
  },
  {
   "cell_type": "code",
   "execution_count": 12,
   "id": "095c2911",
   "metadata": {},
   "outputs": [
    {
     "data": {
      "text/plain": [
       " Pregnancies                  0.000000\n",
       "Glucose                       0.006510\n",
       "Blood Pressure                0.045573\n",
       "Skin Thickness                0.295573\n",
       "Insulin                       0.486979\n",
       "BMI                           0.014323\n",
       "Diabetes Pedigree Function    0.000000\n",
       "AGE                           0.000000\n",
       "Target                        0.000000\n",
       "dtype: float64"
      ]
     },
     "execution_count": 12,
     "metadata": {},
     "output_type": "execute_result"
    }
   ],
   "source": [
    "df1.isnull().mean()"
   ]
  },
  {
   "cell_type": "markdown",
   "id": "13926a82",
   "metadata": {},
   "source": [
    "We can see Insulin has 48 percent null values its better to drop it"
   ]
  },
  {
   "cell_type": "code",
   "execution_count": 13,
   "id": "3c028f34",
   "metadata": {},
   "outputs": [],
   "source": [
    "df2=df1.drop('Insulin',axis=1)"
   ]
  },
  {
   "cell_type": "code",
   "execution_count": 14,
   "id": "4524fb32",
   "metadata": {},
   "outputs": [
    {
     "data": {
      "text/plain": [
       "<AxesSubplot:xlabel='Target', ylabel='count'>"
      ]
     },
     "execution_count": 14,
     "metadata": {},
     "output_type": "execute_result"
    },
    {
     "data": {
      "image/png": "[encoded data removed]",
      "text/plain": [
       "<Figure size 432x288 with 1 Axes>"
      ]
     },
     "metadata": {
      "needs_background": "light"
     },
     "output_type": "display_data"
    }
   ],
   "source": [
    "sns.countplot(data=df2,x=df2['Target'])"
   ]
  },
  {
   "cell_type": "markdown",
   "id": "8b47b9c4",
   "metadata": {},
   "source": [
    "We can see that the non diabetic population is more than diabetic."
   ]
  },
  {
   "cell_type": "code",
   "execution_count": 15,
   "id": "171da1f3",
   "metadata": {},
   "outputs": [
    {
     "data": {
      "text/plain": [
       "Target\n",
       "0.0    65.104167\n",
       "1.0    34.895833\n",
       "Name: Target, dtype: float64"
      ]
     },
     "execution_count": 15,
     "metadata": {},
     "output_type": "execute_result"
    }
   ],
   "source": [
    "df2.groupby('Target')['Target'].count()/len(df2)*100"
   ]
  },
  {
   "cell_type": "code",
   "execution_count": 16,
   "id": "59b1ad86",
   "metadata": {},
   "outputs": [
    {
     "data": {
      "text/html": [
       "<div>\n",
       "<style scoped>\n",
       "    .dataframe tbody tr th:only-of-type {\n",
       "        vertical-align: middle;\n",
       "    }\n",
       "\n",
       "    .dataframe tbody tr th {\n",
       "        vertical-align: top;\n",
       "    }\n",
       "\n",
       "    .dataframe thead th {\n",
       "        text-align: right;\n",
       "    }\n",
       "</style>\n",
       "<table border=\"1\" class=\"dataframe\">\n",
       "  <thead>\n",
       "    <tr style=\"text-align: right;\">\n",
       "      <th></th>\n",
       "      <th>Pregnancies</th>\n",
       "      <th>Glucose</th>\n",
       "      <th>Blood Pressure</th>\n",
       "      <th>Skin Thickness</th>\n",
       "      <th>BMI</th>\n",
       "      <th>Diabetes Pedigree Function</th>\n",
       "      <th>AGE</th>\n",
       "      <th>Target</th>\n",
       "    </tr>\n",
       "  </thead>\n",
       "  <tbody>\n",
       "    <tr>\n",
       "      <th>0</th>\n",
       "      <td>6.0</td>\n",
       "      <td>148.0</td>\n",
       "      <td>72.0</td>\n",
       "      <td>35.0</td>\n",
       "      <td>33.6</td>\n",
       "      <td>0.627</td>\n",
       "      <td>50.0</td>\n",
       "      <td>1.0</td>\n",
       "    </tr>\n",
       "    <tr>\n",
       "      <th>1</th>\n",
       "      <td>1.0</td>\n",
       "      <td>85.0</td>\n",
       "      <td>66.0</td>\n",
       "      <td>29.0</td>\n",
       "      <td>26.6</td>\n",
       "      <td>0.351</td>\n",
       "      <td>31.0</td>\n",
       "      <td>0.0</td>\n",
       "    </tr>\n",
       "    <tr>\n",
       "      <th>2</th>\n",
       "      <td>8.0</td>\n",
       "      <td>183.0</td>\n",
       "      <td>64.0</td>\n",
       "      <td>NaN</td>\n",
       "      <td>23.3</td>\n",
       "      <td>0.672</td>\n",
       "      <td>32.0</td>\n",
       "      <td>1.0</td>\n",
       "    </tr>\n",
       "    <tr>\n",
       "      <th>3</th>\n",
       "      <td>1.0</td>\n",
       "      <td>89.0</td>\n",
       "      <td>66.0</td>\n",
       "      <td>23.0</td>\n",
       "      <td>28.1</td>\n",
       "      <td>0.167</td>\n",
       "      <td>21.0</td>\n",
       "      <td>0.0</td>\n",
       "    </tr>\n",
       "    <tr>\n",
       "      <th>4</th>\n",
       "      <td>0.0</td>\n",
       "      <td>137.0</td>\n",
       "      <td>40.0</td>\n",
       "      <td>35.0</td>\n",
       "      <td>43.1</td>\n",
       "      <td>2.288</td>\n",
       "      <td>33.0</td>\n",
       "      <td>1.0</td>\n",
       "    </tr>\n",
       "  </tbody>\n",
       "</table>\n",
       "</div>"
      ],
      "text/plain": [
       "    Pregnancies  Glucose  Blood Pressure  Skin Thickness   BMI  \\\n",
       "0           6.0    148.0            72.0            35.0  33.6   \n",
       "1           1.0     85.0            66.0            29.0  26.6   \n",
       "2           8.0    183.0            64.0             NaN  23.3   \n",
       "3           1.0     89.0            66.0            23.0  28.1   \n",
       "4           0.0    137.0            40.0            35.0  43.1   \n",
       "\n",
       "   Diabetes Pedigree Function   AGE  Target  \n",
       "0                       0.627  50.0     1.0  \n",
       "1                       0.351  31.0     0.0  \n",
       "2                       0.672  32.0     1.0  \n",
       "3                       0.167  21.0     0.0  \n",
       "4                       2.288  33.0     1.0  "
      ]
     },
     "execution_count": 16,
     "metadata": {},
     "output_type": "execute_result"
    }
   ],
   "source": [
    "df2.head()"
   ]
  },
  {
   "cell_type": "markdown",
   "id": "c030be33",
   "metadata": {},
   "source": [
    "We have 2 population diabetic and non_diabetic lets split the data and do the analaysis for better results."
   ]
  },
  {
   "cell_type": "code",
   "execution_count": 17,
   "id": "a7f8e02e",
   "metadata": {},
   "outputs": [],
   "source": [
    "df_diabetes=df2[df2['Target']==1]"
   ]
  },
  {
   "cell_type": "code",
   "execution_count": 18,
   "id": "492b97d2",
   "metadata": {},
   "outputs": [],
   "source": [
    "df_non_diabetes=df2[df2['Target']==0]"
   ]
  },
  {
   "cell_type": "markdown",
   "id": "004d9c90",
   "metadata": {},
   "source": [
    "To find the relation between missing values lets use msno we observe that values are missing at random."
   ]
  },
  {
   "cell_type": "code",
   "execution_count": 19,
   "id": "8be0da73",
   "metadata": {},
   "outputs": [
    {
     "data": {
      "text/plain": [
       "<AxesSubplot:>"
      ]
     },
     "execution_count": 19,
     "metadata": {},
     "output_type": "execute_result"
    },
    {
     "data": {
      "image/png": "[encoded data removed]",
      "text/plain": [
       "<Figure size 1800x720 with 2 Axes>"
      ]
     },
     "metadata": {
      "needs_background": "light"
     },
     "output_type": "display_data"
    }
   ],
   "source": [
    "sorted = df_non_diabetes.sort_values('Skin Thickness')\n",
    "msno.matrix(sorted)"
   ]
  },
  {
   "cell_type": "code",
   "execution_count": 20,
   "id": "11a608ea",
   "metadata": {},
   "outputs": [
    {
     "data": {
      "text/plain": [
       "<AxesSubplot:>"
      ]
     },
     "execution_count": 20,
     "metadata": {},
     "output_type": "execute_result"
    },
    {
     "data": {
      "image/png": "[encoded data removed]",
      "text/plain": [
       "<Figure size 1800x720 with 2 Axes>"
      ]
     },
     "metadata": {
      "needs_background": "light"
     },
     "output_type": "display_data"
    }
   ],
   "source": [
    "sorted = df_diabetes.sort_values('Skin Thickness')\n",
    "msno.matrix(sorted)"
   ]
  },
  {
   "cell_type": "markdown",
   "id": "96830970",
   "metadata": {},
   "source": [
    "To fill missing values lets try some advanced imputation as replacing it by mean and median will have less variablity"
   ]
  },
  {
   "cell_type": "code",
   "execution_count": 21,
   "id": "9c5b963c",
   "metadata": {},
   "outputs": [
    {
     "data": {
      "image/png": "[encoded data removed]",
      "text/plain": [
       "<Figure size 936x720 with 2 Axes>"
      ]
     },
     "metadata": {
      "needs_background": "light"
     },
     "output_type": "display_data"
    }
   ],
   "source": [
    "plt.figure(figsize=(13,10))\n",
    "sns.heatmap(df2.corr(method = \"spearman\"),annot=True,fmt = \".2f\", cmap=\"coolwarm\");"
   ]
  },
  {
   "cell_type": "code",
   "execution_count": 22,
   "id": "8ab6981e",
   "metadata": {},
   "outputs": [
    {
     "name": "stdout",
     "output_type": "stream",
     "text": [
      "Imputing row 1/268 with 0 missing, elapsed time: 0.010\n",
      "Imputing row 101/268 with 1 missing, elapsed time: 0.011\n",
      "Imputing row 201/268 with 0 missing, elapsed time: 0.012\n"
     ]
    }
   ],
   "source": [
    "from fancyimpute import KNN\n",
    "knn_imputer = KNN()\n",
    "df_diabetes_knn= df_diabetes.copy(deep=True)\n",
    "df_diabetes_knn.iloc[:, :] = knn_imputer.fit_transform(df_diabetes_knn)"
   ]
  },
  {
   "cell_type": "code",
   "execution_count": null,
   "id": "e9f2cdcf",
   "metadata": {},
   "outputs": [],
   "source": [
    "from fancyimpute import IterativeImputer\n",
    "MICE_imputer = IterativeImputer()\n",
    "df_diabetes_MICE = df_diabetes.copy(deep=True)\n",
    "df_diabetes_MICE.iloc[:, :] = MICE_imputer.fit_transform(df_diabetes_MICE)"
   ]
  },
  {
   "cell_type": "code",
   "execution_count": null,
   "id": "55577652",
   "metadata": {},
   "outputs": [],
   "source": [
    "nullity = df_diabetes['BMI'].isnull() + df_diabetes['Skin Thickness'].isnull()\n",
    "imputation ={'KNN Imputation': df_diabetes_knn,\n",
    "              'MICE Imputation': df_diabetes_MICE}"
   ]
  },
  {
   "cell_type": "code",
   "execution_count": null,
   "id": "88067d4e",
   "metadata": {},
   "outputs": [],
   "source": [
    "\n",
    "for df_key in imputation:\n",
    "    imputation[df_key].plot(x='Skin Thickness', y='BMI', kind='scatter',\n",
    "                             alpha=0.5, c=nullity, cmap='rainbow',\n",
    "                             colorbar=False, title=df_key)\n",
    "    plt.show()"
   ]
  },
  {
   "cell_type": "markdown",
   "id": "6a82a270",
   "metadata": {},
   "source": [
    "We see that Knn shows more varablity compared to mice in sample with diabetes lets go with knn.Now lets impute for non diabetes population."
   ]
  },
  {
   "cell_type": "code",
   "execution_count": null,
   "id": "aefc49b6",
   "metadata": {},
   "outputs": [],
   "source": [
    "from fancyimpute import KNN\n",
    "knn_imputer = KNN()\n",
    "df_non_diabetes_knn= df_non_diabetes.copy(deep=True)\n",
    "df_non_diabetes_knn.iloc[:, :] = knn_imputer.fit_transform(df_non_diabetes_knn)"
   ]
  },
  {
   "cell_type": "code",
   "execution_count": null,
   "id": "2c6e4f61",
   "metadata": {},
   "outputs": [],
   "source": [
    "from fancyimpute import IterativeImputer\n",
    "MICE_imputer = IterativeImputer()\n",
    "df_non_diabetes_MICE = df_non_diabetes.copy(deep=True)\n",
    "df_non_diabetes_MICE.iloc[:, :] = MICE_imputer.fit_transform(df_non_diabetes_MICE)"
   ]
  },
  {
   "cell_type": "code",
   "execution_count": null,
   "id": "0db551ca",
   "metadata": {},
   "outputs": [],
   "source": [
    "nullity = df_non_diabetes['BMI'].isnull() + df_non_diabetes['Skin Thickness'].isnull()\n",
    "imputation ={'KNN Imputation': df_non_diabetes_knn,\n",
    "              'MICE Imputation': df_non_diabetes_MICE}"
   ]
  },
  {
   "cell_type": "code",
   "execution_count": null,
   "id": "cd08dc41",
   "metadata": {},
   "outputs": [],
   "source": [
    "for  df_key in imputation:\n",
    "    imputation[df_key].plot(x='Skin Thickness', y='BMI', kind='scatter',\n",
    "                             alpha=0.5, c=nullity, cmap='rainbow',\n",
    "                             colorbar=False, title=df_key)"
   ]
  },
  {
   "cell_type": "markdown",
   "id": "2a64f51f",
   "metadata": {},
   "source": [
    "For Non-diabetes Population Knn performes better hence lets go with Knn for replacing the missing values."
   ]
  },
  {
   "cell_type": "code",
   "execution_count": null,
   "id": "bef2b730",
   "metadata": {},
   "outputs": [],
   "source": [
    "df_diabetes_notnull=df_diabetes_knn.copy()\n",
    "df_non_diabetes_notnull=df_non_diabetes_knn.copy()"
   ]
  },
  {
   "cell_type": "markdown",
   "id": "ab24c214",
   "metadata": {},
   "source": [
    "Lets visualize the fetures to get better understanding of the data."
   ]
  },
  {
   "cell_type": "code",
   "execution_count": null,
   "id": "e138fc3b",
   "metadata": {},
   "outputs": [],
   "source": [
    "l=[i for i in df_diabetes_notnull.columns if i!='Target']\n",
    "l"
   ]
  },
  {
   "cell_type": "markdown",
   "id": "50741bd8",
   "metadata": {},
   "source": [
    "creating a list of continious variable."
   ]
  },
  {
   "cell_type": "code",
   "execution_count": null,
   "id": "ac8ea55e",
   "metadata": {
    "scrolled": true
   },
   "outputs": [],
   "source": [
    "df_diabetes_notnull.info()"
   ]
  },
  {
   "cell_type": "code",
   "execution_count": null,
   "id": "ea9ef524",
   "metadata": {},
   "outputs": [],
   "source": [
    "df_diabetes_notnull.describe()"
   ]
  },
  {
   "cell_type": "code",
   "execution_count": null,
   "id": "bdeb03d0",
   "metadata": {},
   "outputs": [],
   "source": [
    "for i in l :\n",
    "    sns.histplot(data=df_diabetes,x=df_diabetes_notnull[i],kde=True)\n",
    "    plt.axvline(x=df_diabetes_notnull[i].mean(),color='red',alpha=0.5,label='Mean')\n",
    "    plt.axvline(x=df_diabetes_notnull[i].median(),c='blue',ls='--',alpha=0.5,label='Median')\n",
    "    plt.legend()\n",
    "    plt.show()"
   ]
  },
  {
   "cell_type": "code",
   "execution_count": null,
   "id": "75fdcfb5",
   "metadata": {},
   "outputs": [],
   "source": [
    "for i in l:\n",
    "    sns.boxplot(data=df_diabetes_notnull,y=df_diabetes_notnull[i])\n",
    "    plt.show()"
   ]
  },
  {
   "cell_type": "markdown",
   "id": "17f1e347",
   "metadata": {},
   "source": [
    "We see outlier in majority of the features."
   ]
  },
  {
   "cell_type": "markdown",
   "id": "39644744",
   "metadata": {},
   "source": [
    "In age we see max value as 70 its just a variant as for the other features we do not have the domain knowledge to understand its just a variant or an outlier.Let me drop the outlier for now."
   ]
  },
  {
   "cell_type": "markdown",
   "id": "d42846d1",
   "metadata": {},
   "source": [
    "creating a function find_skewed_boundaries to determain the outlier based on IQR."
   ]
  },
  {
   "cell_type": "code",
   "execution_count": null,
   "id": "de46e561",
   "metadata": {},
   "outputs": [],
   "source": [
    "def find_skewed_boundaries(df, variable, distance):\n",
    "\n",
    "\n",
    "    IQR = df[variable].quantile(0.75) - df[variable].quantile(0.25)\n",
    "\n",
    "    lower_boundary = df[variable].quantile(0.25) - (IQR * distance)\n",
    "    upper_boundary = df[variable].quantile(0.75) + (IQR * distance)\n",
    "\n",
    "    return upper_boundary, lower_boundary"
   ]
  },
  {
   "cell_type": "code",
   "execution_count": null,
   "id": "1acad9dc",
   "metadata": {},
   "outputs": [],
   "source": [
    "df_diabetes_dropout=df_diabetes_notnull.copy()"
   ]
  },
  {
   "cell_type": "code",
   "execution_count": null,
   "id": "8f6fd57c",
   "metadata": {},
   "outputs": [],
   "source": [
    "for i in l:\n",
    "    (upper,lower)=find_skewed_boundaries(df_diabetes_dropout,i,1.5)\n",
    "    df_diabetes_dropout[i] = np.where(df_diabetes_dropout[i] >upper,np.nan,df_diabetes_dropout[i])\n",
    "    \n",
    "    df_diabetes_dropout[i] = np.where(df_diabetes_dropout[i] <lower,np.nan,df_diabetes_dropout[i])\n"
   ]
  },
  {
   "cell_type": "code",
   "execution_count": null,
   "id": "f706a479",
   "metadata": {},
   "outputs": [],
   "source": [
    "df_diabetes_dropout.head()"
   ]
  },
  {
   "cell_type": "code",
   "execution_count": null,
   "id": "c401a7af",
   "metadata": {},
   "outputs": [],
   "source": [
    "df_diabetes_dropout.isnull().sum()"
   ]
  },
  {
   "cell_type": "code",
   "execution_count": null,
   "id": "ddfa48a2",
   "metadata": {},
   "outputs": [],
   "source": [
    "df_diabetes_dropout_true=df_diabetes_dropout.dropna()"
   ]
  },
  {
   "cell_type": "code",
   "execution_count": null,
   "id": "37105e7a",
   "metadata": {},
   "outputs": [],
   "source": [
    "for i in l :\n",
    "    sns.histplot(data=df_diabetes_dropout_true,x=df_diabetes_dropout_true[i],kde=True)\n",
    "    plt.axvline(x=df_diabetes_dropout_true[i].mean(),color='red',alpha=0.5,label='Mean')\n",
    "    plt.axvline(x=df_diabetes_dropout_true[i].median(),c='blue',ls='--',alpha=0.5,label='Median')\n",
    "    plt.legend()\n",
    "    plt.show()"
   ]
  },
  {
   "cell_type": "markdown",
   "id": "5755341f",
   "metadata": {},
   "source": [
    "BMI,Skin thickness,blood Pressure follow normal distribution."
   ]
  },
  {
   "cell_type": "markdown",
   "id": "82b3e81e",
   "metadata": {},
   "source": [
    "Lets perform the same on Non-diabities"
   ]
  },
  {
   "cell_type": "code",
   "execution_count": null,
   "id": "210e1bff",
   "metadata": {},
   "outputs": [],
   "source": [
    "for i in l :\n",
    "    sns.histplot(data=df_non_diabetes,x=df_non_diabetes_notnull[i],kde=True)\n",
    "    plt.axvline(x=df_non_diabetes_notnull[i].mean(),color='red',alpha=0.5,label='Mean')\n",
    "    plt.axvline(x=df_non_diabetes_notnull[i].median(),c='blue',ls='--',alpha=0.5,label='Median')\n",
    "    plt.legend()\n",
    "    plt.show()"
   ]
  },
  {
   "cell_type": "code",
   "execution_count": null,
   "id": "3547efb2",
   "metadata": {
    "scrolled": true
   },
   "outputs": [],
   "source": [
    "for i in l:\n",
    "    sns.boxplot(data=df_non_diabetes_notnull,y=df_diabetes_notnull[i])\n",
    "    plt.show()"
   ]
  },
  {
   "cell_type": "code",
   "execution_count": null,
   "id": "7cc24132",
   "metadata": {},
   "outputs": [],
   "source": [
    "df_non_diabetes_dropout=df_non_diabetes_notnull.copy()"
   ]
  },
  {
   "cell_type": "markdown",
   "id": "5b5725be",
   "metadata": {},
   "source": [
    "Lets remove the outlier using IQR."
   ]
  },
  {
   "cell_type": "code",
   "execution_count": null,
   "id": "891250c1",
   "metadata": {},
   "outputs": [],
   "source": [
    "for i in l:\n",
    "    (upper,lower)=find_skewed_boundaries(df_non_diabetes_dropout,i,1.5)\n",
    "    df_non_diabetes_dropout[i] = np.where(df_non_diabetes_dropout[i] >upper,np.nan,df_non_diabetes_dropout[i])\n",
    "    \n",
    "    df_non_diabetes_dropout[i] = np.where(df_non_diabetes_dropout[i] <lower,np.nan,df_non_diabetes_dropout[i])\n",
    "\n"
   ]
  },
  {
   "cell_type": "code",
   "execution_count": null,
   "id": "df7c8ce4",
   "metadata": {},
   "outputs": [],
   "source": [
    "df_non_diabetes_dropout_true=df_non_diabetes_dropout.dropna()\n",
    "df_non_diabetes_dropout_true.head()"
   ]
  },
  {
   "cell_type": "code",
   "execution_count": null,
   "id": "e5b28813",
   "metadata": {},
   "outputs": [],
   "source": [
    "df_non_diabetes_dropout_true.describe()"
   ]
  },
  {
   "cell_type": "code",
   "execution_count": null,
   "id": "b4475788",
   "metadata": {},
   "outputs": [],
   "source": [
    "for i in l :\n",
    "    sns.histplot(data=df_non_diabetes_dropout_true,x=df_non_diabetes_dropout_true[i],kde=True)\n",
    "    plt.axvline(x=df_non_diabetes_dropout_true[i].mean(),color='red',alpha=0.5,label='Mean')\n",
    "    plt.axvline(x=df_non_diabetes_dropout_true[i].median(),c='blue',ls='--',alpha=0.5,label='Median')\n",
    "    plt.legend()\n",
    "    plt.show()"
   ]
  },
  {
   "cell_type": "markdown",
   "id": "0150caae",
   "metadata": {},
   "source": [
    "Glucose,blood pressure,skin thickness,bmi are symmetric age and dpf are skewed"
   ]
  },
  {
   "cell_type": "markdown",
   "id": "c5282388",
   "metadata": {},
   "source": [
    "Lets concat the both data frame "
   ]
  },
  {
   "cell_type": "code",
   "execution_count": null,
   "id": "64a857cb",
   "metadata": {},
   "outputs": [],
   "source": [
    "df_main=pd.concat([df_non_diabetes_dropout_true,df_diabetes_dropout_true]);"
   ]
  },
  {
   "cell_type": "code",
   "execution_count": null,
   "id": "133a9eff",
   "metadata": {},
   "outputs": [],
   "source": [
    "df_main"
   ]
  },
  {
   "cell_type": "code",
   "execution_count": null,
   "id": "697cf53c",
   "metadata": {},
   "outputs": [],
   "source": [
    "for i in l :\n",
    "    sns.histplot(data=df_main,x=df_main[i],kde=True)\n",
    "    \n",
    "    plt.show()"
   ]
  },
  {
   "cell_type": "code",
   "execution_count": null,
   "id": "5574ba4f",
   "metadata": {
    "scrolled": true
   },
   "outputs": [],
   "source": [
    "for i in l :\n",
    "    sns.histplot(data=df_main,x=df_main[i],hue=df_main['Target'])\n",
    "    plt.show()"
   ]
  },
  {
   "cell_type": "code",
   "execution_count": null,
   "id": "5970d615",
   "metadata": {},
   "outputs": [],
   "source": [
    "for i in l:\n",
    "    sns.boxplot(data=df_main,y=df_main[i],x=df_main['Target'])\n",
    "    plt.show()"
   ]
  },
  {
   "cell_type": "markdown",
   "id": "94239ddc",
   "metadata": {},
   "source": [
    "BMI,skin thickness,blood pressure follow normal distribution lets perform some transformation on other features to make it normal.some feature seems to influence the outcome."
   ]
  },
  {
   "cell_type": "code",
   "execution_count": null,
   "id": "224124bd",
   "metadata": {},
   "outputs": [],
   "source": [
    "#Diabetes Pedigree Function is possitively skewed lets perform log transformation\n",
    "df_trans=df_main.copy()"
   ]
  },
  {
   "cell_type": "code",
   "execution_count": null,
   "id": "6a6c03c3",
   "metadata": {},
   "outputs": [],
   "source": [
    "df_trans['dpf']=np.log(df_trans['Diabetes Pedigree Function'])\n",
    "df_trans['age']=np.log(df_trans['AGE'])"
   ]
  },
  {
   "cell_type": "code",
   "execution_count": null,
   "id": "3fcef364",
   "metadata": {},
   "outputs": [],
   "source": [
    "df_trans"
   ]
  },
  {
   "cell_type": "code",
   "execution_count": null,
   "id": "fef1004f",
   "metadata": {},
   "outputs": [],
   "source": [
    "for i in ['age','dpf']:\n",
    "    sns.histplot(data=df_trans,x=df_trans[i],kde=True)\n",
    "    plt.axvline(x=df_trans[i].mean(),color='red',alpha=0.5,label='Mean')\n",
    "    plt.axvline(x=df_trans[i].median(),c='blue',ls='--',alpha=0.5,label='Median')\n",
    "    plt.show()\n",
    "   "
   ]
  },
  {
   "cell_type": "markdown",
   "id": "143d61cb",
   "metadata": {},
   "source": [
    "After transformation we are not able to convert to normal distribution."
   ]
  },
  {
   "cell_type": "code",
   "execution_count": null,
   "id": "26b3d51f",
   "metadata": {
    "scrolled": false
   },
   "outputs": [],
   "source": [
    "sns.pairplot(data=df_main, vars=[\" Pregnancies\",\"Glucose\",\"Blood Pressure\",\"Skin Thickness\", \"BMI\",\"Diabetes Pedigree Function\", \"AGE\"],hue=\"Target\")\n",
    "plt.title(\"Pairplot of Variables by Outcome\");"
   ]
  },
  {
   "cell_type": "markdown",
   "id": "f3e01c3b",
   "metadata": {},
   "source": [
    "From the above scatter plot BMI,skin thickness and pregnancies,age has positive linear relationships.lets check with heat map.\n"
   ]
  },
  {
   "cell_type": "code",
   "execution_count": null,
   "id": "d2fd55b4",
   "metadata": {},
   "outputs": [],
   "source": [
    "plt.figure(figsize=(13,10))\n",
    "sns.heatmap(df_main.corr(method = \"spearman\"),annot=True,fmt = \".2f\", cmap=\"coolwarm\");"
   ]
  },
  {
   "cell_type": "markdown",
   "id": "8af9925f",
   "metadata": {},
   "source": [
    "No two factors have strong linear relationships.\n",
    "Age,Pregnancies and BMI,SkinThickness have moderate positive linear relationship."
   ]
  },
  {
   "cell_type": "raw",
   "id": "8544bc30",
   "metadata": {},
   "source": [
    "The data set had 8 features and 768 entries. Features with more than 40 percent of missing values is been dropped and the rest is been filled by advanced imputation.\n",
    "Based on the dependent variable data is been split into 2 population and then we removed the outlier and explored separately.\n",
    "Then the 2 population is joined visualization is performed and we see that some independent features are moderately corelated\n",
    "from visualization we can see some features seem to influence the outcome.\n"
   ]
  },
  {
   "cell_type": "code",
   "execution_count": null,
   "id": "124c3af4",
   "metadata": {},
   "outputs": [],
   "source": []
  },
  {
   "cell_type": "code",
   "execution_count": null,
   "id": "f306b504",
   "metadata": {},
   "outputs": [],
   "source": []
  },
  {
   "cell_type": "code",
   "execution_count": null,
   "id": "539a8d0a",
   "metadata": {},
   "outputs": [],
   "source": []
  },
  {
   "cell_type": "code",
   "execution_count": null,
   "id": "08eb154b",
   "metadata": {},
   "outputs": [],
   "source": []
  },
  {
   "cell_type": "code",
   "execution_count": null,
   "id": "14a32909",
   "metadata": {},
   "outputs": [],
   "source": []
  },
  {
   "cell_type": "code",
   "execution_count": null,
   "id": "24f2b7e1",
   "metadata": {},
   "outputs": [],
   "source": []
  }
 ],
 "metadata": {
  "kernelspec": {
   "display_name": "Python 3 (ipykernel)",
   "language": "python",
   "name": "python3"
  },
  "language_info": {
   "codemirror_mode": {
    "name": "ipython",
    "version": 3
   },
   "file_extension": ".py",
   "mimetype": "text/x-python",
   "name": "python",
   "nbconvert_exporter": "python",
   "pygments_lexer": "ipython3",
   "version": "3.9.12"
  }
 },
 "nbformat": 4,
 "nbformat_minor": 5
}
